{
  "nbformat": 4,
  "nbformat_minor": 0,
  "metadata": {
    "colab": {
      "name": "Deep_Learning_Project DATA_PROCESSING.ipynb",
      "version": "0.3.2",
      "provenance": [],
      "collapsed_sections": []
    },
    "kernelspec": {
      "name": "python3",
      "display_name": "Python 3"
    },
    "accelerator": "GPU"
  },
  "cells": [
    {
      "metadata": {
        "id": "Oi-ZxFgzldks",
        "colab_type": "text"
      },
      "cell_type": "markdown",
      "source": [
        "INSTALLING PACKAGES"
      ]
    },
    {
      "metadata": {
        "id": "Do6WKC14laZ4",
        "colab_type": "code",
        "outputId": "c43e79c5-c527-42a4-9ed4-f5e14b407a10",
        "colab": {
          "base_uri": "https://localhost:8080/",
          "height": 453
        }
      },
      "cell_type": "code",
      "source": [
        "\n",
        "from os.path import exists\n",
        "from wheel.pep425tags import get_abbr_impl, get_impl_ver, get_abi_tag\n",
        "platform = '{}{}-{}'.format(get_abbr_impl(), get_impl_ver(), get_abi_tag())\n",
        "cuda_output = !ldconfig -p|grep cudart.so|sed -e 's/.*\\.\\([0-9]*\\)\\.\\([0-9]*\\)$/cu\\1\\2/'\n",
        "accelerator = cuda_output[0] if exists('/dev/nvidia0') else 'cpu'\n",
        "\n",
        "!pip install -q http://download.pytorch.org/whl/{accelerator}/torch-0.4.1-{platform}-linux_x86_64.whl torchvision\n",
        "!pip3 install torchtext\n",
        "!pip3 install torchvision\n",
        "!pip3 install --no-cache-dir -I pillow\n"
      ],
      "execution_count": 2,
      "outputs": [
        {
          "output_type": "stream",
          "text": [
            "tcmalloc: large alloc 1073750016 bytes == 0x58678000 @  0x7f6ae9a502a4 0x591a07 0x5b5d56 0x502e9a 0x506859 0x502209 0x502f3d 0x506859 0x504c28 0x502540 0x502f3d 0x506859 0x504c28 0x502540 0x502f3d 0x506859 0x504c28 0x502540 0x502f3d 0x507641 0x502209 0x502f3d 0x506859 0x504c28 0x502540 0x502f3d 0x507641 0x504c28 0x502540 0x502f3d 0x507641\n",
            "Collecting torchtext\n",
            "\u001b[?25l  Downloading https://files.pythonhosted.org/packages/c6/bc/b28b9efb4653c03e597ed207264eea45862b5260f48e9f010b5068d64db1/torchtext-0.3.1-py3-none-any.whl (62kB)\n",
            "\u001b[K    100% |████████████████████████████████| 71kB 4.6MB/s \n",
            "\u001b[?25hRequirement already satisfied: requests in /usr/local/lib/python3.6/dist-packages (from torchtext) (2.18.4)\n",
            "Requirement already satisfied: torch in /usr/local/lib/python3.6/dist-packages (from torchtext) (0.4.1)\n",
            "Requirement already satisfied: numpy in /usr/local/lib/python3.6/dist-packages (from torchtext) (1.14.6)\n",
            "Requirement already satisfied: tqdm in /usr/local/lib/python3.6/dist-packages (from torchtext) (4.28.1)\n",
            "Requirement already satisfied: idna<2.7,>=2.5 in /usr/local/lib/python3.6/dist-packages (from requests->torchtext) (2.6)\n",
            "Requirement already satisfied: certifi>=2017.4.17 in /usr/local/lib/python3.6/dist-packages (from requests->torchtext) (2018.11.29)\n",
            "Requirement already satisfied: chardet<3.1.0,>=3.0.2 in /usr/local/lib/python3.6/dist-packages (from requests->torchtext) (3.0.4)\n",
            "Requirement already satisfied: urllib3<1.23,>=1.21.1 in /usr/local/lib/python3.6/dist-packages (from requests->torchtext) (1.22)\n",
            "Installing collected packages: torchtext\n",
            "Successfully installed torchtext-0.3.1\n",
            "Requirement already satisfied: torchvision in /usr/local/lib/python3.6/dist-packages (0.2.1)\n",
            "Requirement already satisfied: pillow>=4.1.1 in /usr/local/lib/python3.6/dist-packages (from torchvision) (5.3.0)\n",
            "Requirement already satisfied: six in /usr/local/lib/python3.6/dist-packages (from torchvision) (1.11.0)\n",
            "Requirement already satisfied: torch in /usr/local/lib/python3.6/dist-packages (from torchvision) (0.4.1)\n",
            "Requirement already satisfied: numpy in /usr/local/lib/python3.6/dist-packages (from torchvision) (1.14.6)\n",
            "Collecting pillow\n",
            "\u001b[?25l  Downloading https://files.pythonhosted.org/packages/62/94/5430ebaa83f91cc7a9f687ff5238e26164a779cca2ef9903232268b0a318/Pillow-5.3.0-cp36-cp36m-manylinux1_x86_64.whl (2.0MB)\n",
            "\u001b[K    100% |████████████████████████████████| 2.0MB 38.3MB/s \n",
            "\u001b[?25hInstalling collected packages: pillow\n",
            "Successfully installed pillow-5.3.0\n"
          ],
          "name": "stdout"
        }
      ]
    },
    {
      "metadata": {
        "id": "zDu_SVSZlpAe",
        "colab_type": "text"
      },
      "cell_type": "markdown",
      "source": [
        "DOWNLOAD DATA"
      ]
    },
    {
      "metadata": {
        "id": "vFPJBc0Jlfwi",
        "colab_type": "code",
        "colab": {
          "base_uri": "https://localhost:8080/",
          "height": 35
        },
        "outputId": "e3f2dbef-cbf3-4227-94b6-dc1a964e3fe9"
      },
      "cell_type": "code",
      "source": [
        "\n",
        "import os\n",
        "import torch\n",
        "import torchvision\n",
        "from torchvision.datasets.utils import download_url\n",
        "import zipfile\n",
        "\n",
        "\n",
        "train_path = 'train'\n",
        "dl_file = 'dl2018-image-proj.zip'\n",
        "dl_url = 'https://users.aalto.fi/mvsjober/misc/'\n",
        "\n",
        "zip_path = os.path.join(train_path, dl_file)\n",
        "if not os.path.isfile(zip_path):\n",
        "    download_url(dl_url + dl_file, root=train_path, filename=dl_file, md5=None)\n",
        "\n",
        "with zipfile.ZipFile(zip_path) as zip_f:\n",
        "    zip_f.extractall(train_path)\n",
        "    \n",
        "    #os.unlink(zip_path)"
      ],
      "execution_count": 3,
      "outputs": [
        {
          "output_type": "stream",
          "text": [
            "Downloading https://users.aalto.fi/mvsjober/misc/dl2018-image-proj.zip to train/dl2018-image-proj.zip\n"
          ],
          "name": "stdout"
        }
      ]
    },
    {
      "metadata": {
        "id": "FAeVmO1dltAv",
        "colab_type": "code",
        "outputId": "18456de4-c1e8-4b32-8e7b-2895d68ef6ce",
        "colab": {
          "base_uri": "https://localhost:8080/",
          "height": 35
        }
      },
      "cell_type": "code",
      "source": [
        "!ls train/images/im1.jpg"
      ],
      "execution_count": 2,
      "outputs": [
        {
          "output_type": "stream",
          "text": [
            "train/images/im1.jpg\n"
          ],
          "name": "stdout"
        }
      ]
    },
    {
      "metadata": {
        "id": "hV_rdiEjluL3",
        "colab_type": "code",
        "colab": {}
      },
      "cell_type": "code",
      "source": [
        "PATH = \"train/images/\""
      ],
      "execution_count": 0,
      "outputs": []
    },
    {
      "metadata": {
        "id": "0XAWfxrwog0O",
        "colab_type": "code",
        "colab": {}
      },
      "cell_type": "code",
      "source": [
        "# workaround \n",
        "from PIL import Image\n",
        "def register_extension(id, extension): Image.EXTENSION[extension.lower()] = id.upper()\n",
        "Image.register_extension = register_extension\n",
        "def register_extensions(id, extensions): \n",
        "  for extension in extensions: register_extension(id, extension)\n",
        "Image.register_extensions = register_extensions"
      ],
      "execution_count": 0,
      "outputs": []
    },
    {
      "metadata": {
        "id": "dW4V-NvSbjqS",
        "colab_type": "code",
        "colab": {
          "base_uri": "https://localhost:8080/",
          "height": 35
        },
        "outputId": "4771c180-6081-4cca-b900-8c9c8531fb27"
      },
      "cell_type": "code",
      "source": [
        "%matplotlib inline\n",
        "\n",
        "import numpy as np\n",
        "import pandas as pd\n",
        "import matplotlib.pyplot as plt\n",
        "import cv2\n",
        "import matplotlib.pyplot as plt\n",
        "import matplotlib.image as mpimg\n",
        "import PIL\n",
        "print(PIL.PILLOW_VERSION)"
      ],
      "execution_count": 13,
      "outputs": [
        {
          "output_type": "stream",
          "text": [
            "5.3.0\n"
          ],
          "name": "stdout"
        }
      ]
    },
    {
      "metadata": {
        "id": "oeUIQet9l4_C",
        "colab_type": "code",
        "outputId": "06107850-eae7-42e5-f4c3-02ef3c113e37",
        "colab": {
          "base_uri": "https://localhost:8080/",
          "height": 235
        }
      },
      "cell_type": "code",
      "source": [
        "img=mpimg.imread(f'{PATH}/im1.jpg')\n",
        "imgplot = plt.imshow(img)\n",
        "plt.show()\n",
        "\n",
        "im = cv2.imread(f'{PATH}/im1.jpg')\n",
        "im_resized = cv2.resize(im, (224, 224), interpolation=cv2.INTER_LINEAR)\n",
        "plt.imshow(cv2.cvtColor(im_resized, cv2.COLOR_BGR2RGB))\n",
        "plt.show()"
      ],
      "execution_count": 14,
      "outputs": [
        {
          "output_type": "error",
          "ename": "NameError",
          "evalue": "ignored",
          "traceback": [
            "\u001b[0;31m---------------------------------------------------------------------------\u001b[0m",
            "\u001b[0;31mNameError\u001b[0m                                 Traceback (most recent call last)",
            "\u001b[0;32m<ipython-input-14-0bd889784aac>\u001b[0m in \u001b[0;36m<module>\u001b[0;34m()\u001b[0m\n\u001b[0;32m----> 1\u001b[0;31m \u001b[0mimg\u001b[0m\u001b[0;34m=\u001b[0m\u001b[0mmpimg\u001b[0m\u001b[0;34m.\u001b[0m\u001b[0mimread\u001b[0m\u001b[0;34m(\u001b[0m\u001b[0;34mf'{PATH}/im1.jpg'\u001b[0m\u001b[0;34m)\u001b[0m\u001b[0;34m\u001b[0m\u001b[0;34m\u001b[0m\u001b[0m\n\u001b[0m\u001b[1;32m      2\u001b[0m \u001b[0mimgplot\u001b[0m \u001b[0;34m=\u001b[0m \u001b[0mplt\u001b[0m\u001b[0;34m.\u001b[0m\u001b[0mimshow\u001b[0m\u001b[0;34m(\u001b[0m\u001b[0mimg\u001b[0m\u001b[0;34m)\u001b[0m\u001b[0;34m\u001b[0m\u001b[0;34m\u001b[0m\u001b[0m\n\u001b[1;32m      3\u001b[0m \u001b[0mplt\u001b[0m\u001b[0;34m.\u001b[0m\u001b[0mshow\u001b[0m\u001b[0;34m(\u001b[0m\u001b[0;34m)\u001b[0m\u001b[0;34m\u001b[0m\u001b[0;34m\u001b[0m\u001b[0m\n\u001b[1;32m      4\u001b[0m \u001b[0;34m\u001b[0m\u001b[0m\n\u001b[1;32m      5\u001b[0m \u001b[0mim\u001b[0m \u001b[0;34m=\u001b[0m \u001b[0mcv2\u001b[0m\u001b[0;34m.\u001b[0m\u001b[0mimread\u001b[0m\u001b[0;34m(\u001b[0m\u001b[0;34mf'{PATH}/im1.jpg'\u001b[0m\u001b[0;34m)\u001b[0m\u001b[0;34m\u001b[0m\u001b[0;34m\u001b[0m\u001b[0m\n",
            "\u001b[0;31mNameError\u001b[0m: name 'PATH' is not defined"
          ]
        }
      ]
    },
    {
      "metadata": {
        "id": "-ngPpyjGNfDn",
        "colab_type": "code",
        "colab": {}
      },
      "cell_type": "code",
      "source": [
        ""
      ],
      "execution_count": 0,
      "outputs": []
    },
    {
      "metadata": {
        "id": "1a31jqvBrEHO",
        "colab_type": "text"
      },
      "cell_type": "markdown",
      "source": [
        "Image functions"
      ]
    },
    {
      "metadata": {
        "id": "YtaF9l0emw3t",
        "colab_type": "code",
        "outputId": "35ed7853-816b-4046-8710-dedb6862564c",
        "colab": {
          "base_uri": "https://localhost:8080/",
          "height": 269
        }
      },
      "cell_type": "code",
      "source": [
        "#by path\n",
        "def plot_imgname(name):\n",
        "  img=mpimg.imread(f'{PATH}{name}.jpg')\n",
        "  imgplot = plt.imshow(img)\n",
        "  plt.show()\n",
        "\n",
        "plot_imgname('im185')\n",
        "\n",
        "#check if grayscale\n",
        "def is_grey_scale(path):\n",
        "    \n",
        "    im = Image.open(img_path).convert('RGB')\n",
        "    w,h = im.size\n",
        "    for i in range(w):\n",
        "        for j in range(h):\n",
        "            r,g,b = im.getpixel((i,j))\n",
        "            if r != g != b: return False\n",
        "    return True\n",
        "\n",
        "def plot_image(tensor):\n",
        "  if tensor.shape[0] == 3:\n",
        "    x = tensor.permute(1,2,0).data.numpy()\n",
        "    plt.imshow(x)\n",
        "  elif tensor.shape[0] == 1:\n",
        "    x = tensor.permute(1,2,0).squeeze(2).data.numpy()\n",
        "    plt.imshow(x, cmap='gray')"
      ],
      "execution_count": 7,
      "outputs": [
        {
          "output_type": "display_data",
          "data": {
            "image/png": "[encoded data removed]",
            "text/plain": [
              "<matplotlib.figure.Figure at 0x7f7760743940>"
            ]
          },
          "metadata": {
            "tags": []
          }
        }
      ]
    },
    {
      "metadata": {
        "id": "uK0nYnEyrur-",
        "colab_type": "code",
        "colab": {}
      },
      "cell_type": "code",
      "source": [
        "# check all the classes\n",
        "\n",
        "from os import listdir\n",
        "from os.path import isfile, join\n",
        "classes = [f[:-4] for f in listdir('train/annotations/') if isfile(join('train/annotations/', f))]"
      ],
      "execution_count": 0,
      "outputs": []
    },
    {
      "metadata": {
        "id": "0gPX71ensIaz",
        "colab_type": "code",
        "outputId": "65d2ac37-51dc-4856-b2e8-80abd36d9b8c",
        "colab": {
          "base_uri": "https://localhost:8080/",
          "height": 260
        }
      },
      "cell_type": "code",
      "source": [
        "classes"
      ],
      "execution_count": 9,
      "outputs": [
        {
          "output_type": "execute_result",
          "data": {
            "text/plain": [
              "['portrait',\n",
              " 'car',\n",
              " 'clouds',\n",
              " 'night',\n",
              " 'baby',\n",
              " 'river',\n",
              " 'female',\n",
              " 'tree',\n",
              " 'male',\n",
              " 'dog',\n",
              " 'flower',\n",
              " 'bird',\n",
              " 'people',\n",
              " 'sea']"
            ]
          },
          "metadata": {
            "tags": []
          },
          "execution_count": 9
        }
      ]
    },
    {
      "metadata": {
        "id": "bwO5g1PBwtRh",
        "colab_type": "code",
        "colab": {}
      },
      "cell_type": "code",
      "source": [
        "def file_len(fname):\n",
        "    with open(fname) as f:\n",
        "        for i, l in enumerate(f):\n",
        "            pass\n",
        "    return i + 1"
      ],
      "execution_count": 0,
      "outputs": []
    },
    {
      "metadata": {
        "id": "mMeMnfuUtvYM",
        "colab_type": "code",
        "colab": {}
      },
      "cell_type": "code",
      "source": [
        "# distribution of the classes\n",
        "path='train/annotations/'\n",
        "\n",
        "dist = dict([(f'{f[:-4]}',file_len(f'{path}{f}')) for f in listdir(path) if isfile(join(path, f))])\n",
        "            \n",
        "            "
      ],
      "execution_count": 0,
      "outputs": []
    },
    {
      "metadata": {
        "id": "32fFVwtmvYVN",
        "colab_type": "code",
        "outputId": "a1a0a244-97f0-4f90-d671-9f40deadb6f3",
        "colab": {
          "base_uri": "https://localhost:8080/",
          "height": 260
        }
      },
      "cell_type": "code",
      "source": [
        "dist"
      ],
      "execution_count": 12,
      "outputs": [
        {
          "output_type": "execute_result",
          "data": {
            "text/plain": [
              "{'baby': 95,\n",
              " 'bird': 360,\n",
              " 'car': 319,\n",
              " 'clouds': 1095,\n",
              " 'dog': 448,\n",
              " 'female': 3227,\n",
              " 'flower': 761,\n",
              " 'male': 2979,\n",
              " 'night': 598,\n",
              " 'people': 6403,\n",
              " 'portrait': 3121,\n",
              " 'river': 120,\n",
              " 'sea': 173,\n",
              " 'tree': 525}"
            ]
          },
          "metadata": {
            "tags": []
          },
          "execution_count": 12
        }
      ]
    },
    {
      "metadata": {
        "id": "FrHSs98BWKRq",
        "colab_type": "code",
        "outputId": "7f077482-f87c-4d74-bc85-95bb880b40b4",
        "colab": {
          "base_uri": "https://localhost:8080/",
          "height": 502
        }
      },
      "cell_type": "code",
      "source": [
        "import seaborn as sns\n",
        "import matplotlib.pyplot as plt\n",
        "sns.set(style=\"ticks\", color_codes=True)\n",
        "plt.figure(figsize=(15,7))\n",
        "plt.xticks(rotation=90)\n",
        "plt.ylabel(\"Frequency\")\n",
        "plt.xlabel(\"Classes\")\n",
        "plt.title(f\"Distribution\")\n",
        "plt.bar(dist.keys(), dist.values(), width=0.9, color='b')"
      ],
      "execution_count": 13,
      "outputs": [
        {
          "output_type": "execute_result",
          "data": {
            "text/plain": [
              "<Container object of 14 artists>"
            ]
          },
          "metadata": {
            "tags": []
          },
          "execution_count": 13
        },
        {
          "output_type": "display_data",
          "data": {
            "image/png": "[encoded data removed]",
            "text/plain": [
              "<matplotlib.figure.Figure at 0x7f7760743860>"
            ]
          },
          "metadata": {
            "tags": []
          }
        }
      ]
    },
    {
      "metadata": {
        "id": "oCepaHUOxmNo",
        "colab_type": "code",
        "outputId": "d39c5953-98fa-44d5-df67-86c85d7a437f",
        "colab": {
          "base_uri": "https://localhost:8080/",
          "height": 55
        }
      },
      "cell_type": "code",
      "source": [
        "# sort all the images from im1....imn\n",
        "file_col = listdir(\"train/images\")\n",
        "list1 = [int(x[2:len(x)-4]) for x in file_col]\n",
        "list1.sort()\n",
        "listfin = [\"train/images/im\"+str(num)+\".jpg\" for num in list1]\n",
        "\n",
        "file_col = pd.Series(listfin)\n",
        "\n",
        "# creation of the dataframe \n",
        "df = pd.DataFrame()\n",
        "df[\"fileName\"] = file_col\n",
        "\n",
        "path = \"train/annotations\"\n",
        "\n",
        "row = 0\n",
        "\n",
        "# file dic contains how many samples there are for each class. Is it needed?\n",
        "file_dic = {}\n",
        "\n",
        "for label, filename in enumerate(listdir(path)):\n",
        "  # array of zeros (20000,) that will be one column of the df\n",
        "  tmp = np.zeros(file_col.shape[0], dtype=int)\n",
        "  with open(path+\"/\"+filename, \"r\") as file:\n",
        "    file_len = 0\n",
        "    for line in file:\n",
        "      # get the line that contains that image\n",
        "      line = line.replace(\"\\n\", \"\")\n",
        "      line = int(line)\n",
        "      tmp[line-1] = 1   # set 1 for the image that contains that class \n",
        "      file_len = file_len + 1\n",
        "  filename = filename[:-4]\n",
        "  tmp = pd.Series(tmp)\n",
        "  df[filename] = tmp\n",
        "  file_dic[filename] = file_len\n",
        "\n",
        "print(file_dic)"
      ],
      "execution_count": 14,
      "outputs": [
        {
          "output_type": "stream",
          "text": [
            "{'portrait': 3121, 'car': 319, 'clouds': 1095, 'night': 598, 'baby': 95, 'river': 120, 'female': 3227, 'tree': 525, 'male': 2979, 'dog': 448, 'flower': 761, 'bird': 360, 'people': 6403, 'sea': 173}\n"
          ],
          "name": "stdout"
        }
      ]
    },
    {
      "metadata": {
        "id": "PeOGw_oY71J3",
        "colab_type": "code",
        "colab": {
          "base_uri": "https://localhost:8080/",
          "height": 35
        },
        "outputId": "1e1c9de0-ca61-4ff1-9ef4-7e055a74ba7b"
      },
      "cell_type": "code",
      "source": [
        "df.shape"
      ],
      "execution_count": 15,
      "outputs": [
        {
          "output_type": "execute_result",
          "data": {
            "text/plain": [
              "(20000, 15)"
            ]
          },
          "metadata": {
            "tags": []
          },
          "execution_count": 15
        }
      ]
    },
    {
      "metadata": {
        "id": "MboE7re9zgND",
        "colab_type": "code",
        "outputId": "0513c420-ded8-4ec1-8962-db125b58296c",
        "colab": {
          "base_uri": "https://localhost:8080/",
          "height": 202
        }
      },
      "cell_type": "code",
      "source": [
        "df.head()\n"
      ],
      "execution_count": 16,
      "outputs": [
        {
          "output_type": "execute_result",
          "data": {
            "text/html": [
              "<div>\n",
              "<style scoped>\n",
              "    .dataframe tbody tr th:only-of-type {\n",
              "        vertical-align: middle;\n",
              "    }\n",
              "\n",
              "    .dataframe tbody tr th {\n",
              "        vertical-align: top;\n",
              "    }\n",
              "\n",
              "    .dataframe thead th {\n",
              "        text-align: right;\n",
              "    }\n",
              "</style>\n",
              "<table border=\"1\" class=\"dataframe\">\n",
              "  <thead>\n",
              "    <tr style=\"text-align: right;\">\n",
              "      <th></th>\n",
              "      <th>fileName</th>\n",
              "      <th>portrait</th>\n",
              "      <th>car</th>\n",
              "      <th>clouds</th>\n",
              "      <th>night</th>\n",
              "      <th>baby</th>\n",
              "      <th>river</th>\n",
              "      <th>female</th>\n",
              "      <th>tree</th>\n",
              "      <th>male</th>\n",
              "      <th>dog</th>\n",
              "      <th>flower</th>\n",
              "      <th>bird</th>\n",
              "      <th>people</th>\n",
              "      <th>sea</th>\n",
              "    </tr>\n",
              "  </thead>\n",
              "  <tbody>\n",
              "    <tr>\n",
              "      <th>0</th>\n",
              "      <td>train/images/im1.jpg</td>\n",
              "      <td>1</td>\n",
              "      <td>0</td>\n",
              "      <td>0</td>\n",
              "      <td>0</td>\n",
              "      <td>0</td>\n",
              "      <td>0</td>\n",
              "      <td>1</td>\n",
              "      <td>0</td>\n",
              "      <td>0</td>\n",
              "      <td>0</td>\n",
              "      <td>0</td>\n",
              "      <td>0</td>\n",
              "      <td>1</td>\n",
              "      <td>0</td>\n",
              "    </tr>\n",
              "    <tr>\n",
              "      <th>1</th>\n",
              "      <td>train/images/im2.jpg</td>\n",
              "      <td>0</td>\n",
              "      <td>0</td>\n",
              "      <td>0</td>\n",
              "      <td>0</td>\n",
              "      <td>0</td>\n",
              "      <td>0</td>\n",
              "      <td>0</td>\n",
              "      <td>0</td>\n",
              "      <td>0</td>\n",
              "      <td>0</td>\n",
              "      <td>0</td>\n",
              "      <td>0</td>\n",
              "      <td>0</td>\n",
              "      <td>0</td>\n",
              "    </tr>\n",
              "    <tr>\n",
              "      <th>2</th>\n",
              "      <td>train/images/im3.jpg</td>\n",
              "      <td>0</td>\n",
              "      <td>0</td>\n",
              "      <td>0</td>\n",
              "      <td>0</td>\n",
              "      <td>0</td>\n",
              "      <td>0</td>\n",
              "      <td>0</td>\n",
              "      <td>0</td>\n",
              "      <td>0</td>\n",
              "      <td>0</td>\n",
              "      <td>0</td>\n",
              "      <td>0</td>\n",
              "      <td>0</td>\n",
              "      <td>0</td>\n",
              "    </tr>\n",
              "    <tr>\n",
              "      <th>3</th>\n",
              "      <td>train/images/im4.jpg</td>\n",
              "      <td>0</td>\n",
              "      <td>0</td>\n",
              "      <td>0</td>\n",
              "      <td>0</td>\n",
              "      <td>0</td>\n",
              "      <td>0</td>\n",
              "      <td>0</td>\n",
              "      <td>0</td>\n",
              "      <td>1</td>\n",
              "      <td>0</td>\n",
              "      <td>0</td>\n",
              "      <td>0</td>\n",
              "      <td>1</td>\n",
              "      <td>0</td>\n",
              "    </tr>\n",
              "    <tr>\n",
              "      <th>4</th>\n",
              "      <td>train/images/im5.jpg</td>\n",
              "      <td>0</td>\n",
              "      <td>0</td>\n",
              "      <td>0</td>\n",
              "      <td>0</td>\n",
              "      <td>0</td>\n",
              "      <td>0</td>\n",
              "      <td>0</td>\n",
              "      <td>0</td>\n",
              "      <td>1</td>\n",
              "      <td>0</td>\n",
              "      <td>0</td>\n",
              "      <td>0</td>\n",
              "      <td>1</td>\n",
              "      <td>0</td>\n",
              "    </tr>\n",
              "  </tbody>\n",
              "</table>\n",
              "</div>"
            ],
            "text/plain": [
              "               fileName  portrait  car  clouds  night  baby  river  female  \\\n",
              "0  train/images/im1.jpg         1    0       0      0     0      0       1   \n",
              "1  train/images/im2.jpg         0    0       0      0     0      0       0   \n",
              "2  train/images/im3.jpg         0    0       0      0     0      0       0   \n",
              "3  train/images/im4.jpg         0    0       0      0     0      0       0   \n",
              "4  train/images/im5.jpg         0    0       0      0     0      0       0   \n",
              "\n",
              "   tree  male  dog  flower  bird  people  sea  \n",
              "0     0     0    0       0     0       1    0  \n",
              "1     0     0    0       0     0       0    0  \n",
              "2     0     0    0       0     0       0    0  \n",
              "3     0     1    0       0     0       1    0  \n",
              "4     0     1    0       0     0       1    0  "
            ]
          },
          "metadata": {
            "tags": []
          },
          "execution_count": 16
        }
      ]
    },
    {
      "metadata": {
        "id": "ZSOMjwA67VAg",
        "colab_type": "code",
        "outputId": "bbd3c7c8-0ed5-488f-b912-405769d9d77d",
        "colab": {
          "base_uri": "https://localhost:8080/",
          "height": 375
        }
      },
      "cell_type": "code",
      "source": [
        "# displaying inline pandas images\n",
        "import glob\n",
        "import random\n",
        "import base64\n",
        "from io import BytesIO\n",
        "from IPython.display import HTML\n",
        "\n",
        "pd.set_option('display.max_colwidth', -1)\n",
        "\n",
        "# put the PIL image in the df\n",
        "\n",
        "def get_thumbnail(path):\n",
        "    i = Image.open(path)\n",
        "    i.thumbnail((150, 150), Image.LANCZOS)\n",
        "    return i\n",
        "  \n",
        "def image_base64(im):\n",
        "    if isinstance(im, str):\n",
        "        im = get_thumbnail(im)\n",
        "    with BytesIO() as buffer:\n",
        "        im.save(buffer, 'jpeg')\n",
        "        return base64.b64encode(buffer.getvalue()).decode()\n",
        "\n",
        "def image_formatter(im):\n",
        "    return f'<img src=\"data:image/jpeg;base64,{image_base64(im)}\">'\n",
        "\n",
        "df['image'] = df.fileName.map(lambda f: get_thumbnail(f))\n",
        "df.head()"
      ],
      "execution_count": 17,
      "outputs": [
        {
          "output_type": "execute_result",
          "data": {
            "text/html": [
              "<div>\n",
              "<style scoped>\n",
              "    .dataframe tbody tr th:only-of-type {\n",
              "        vertical-align: middle;\n",
              "    }\n",
              "\n",
              "    .dataframe tbody tr th {\n",
              "        vertical-align: top;\n",
              "    }\n",
              "\n",
              "    .dataframe thead th {\n",
              "        text-align: right;\n",
              "    }\n",
              "</style>\n",
              "<table border=\"1\" class=\"dataframe\">\n",
              "  <thead>\n",
              "    <tr style=\"text-align: right;\">\n",
              "      <th></th>\n",
              "      <th>fileName</th>\n",
              "      <th>portrait</th>\n",
              "      <th>car</th>\n",
              "      <th>clouds</th>\n",
              "      <th>night</th>\n",
              "      <th>baby</th>\n",
              "      <th>river</th>\n",
              "      <th>female</th>\n",
              "      <th>tree</th>\n",
              "      <th>male</th>\n",
              "      <th>dog</th>\n",
              "      <th>flower</th>\n",
              "      <th>bird</th>\n",
              "      <th>people</th>\n",
              "      <th>sea</th>\n",
              "      <th>image</th>\n",
              "    </tr>\n",
              "  </thead>\n",
              "  <tbody>\n",
              "    <tr>\n",
              "      <th>0</th>\n",
              "      <td>train/images/im1.jpg</td>\n",
              "      <td>1</td>\n",
              "      <td>0</td>\n",
              "      <td>0</td>\n",
              "      <td>0</td>\n",
              "      <td>0</td>\n",
              "      <td>0</td>\n",
              "      <td>1</td>\n",
              "      <td>0</td>\n",
              "      <td>0</td>\n",
              "      <td>0</td>\n",
              "      <td>0</td>\n",
              "      <td>0</td>\n",
              "      <td>1</td>\n",
              "      <td>0</td>\n",
              "      <td>&lt;PIL.JpegImagePlugin.JpegImageFile image mode=RGB size=128x128 at 0x7F7755889CC0&gt;</td>\n",
              "    </tr>\n",
              "    <tr>\n",
              "      <th>1</th>\n",
              "      <td>train/images/im2.jpg</td>\n",
              "      <td>0</td>\n",
              "      <td>0</td>\n",
              "      <td>0</td>\n",
              "      <td>0</td>\n",
              "      <td>0</td>\n",
              "      <td>0</td>\n",
              "      <td>0</td>\n",
              "      <td>0</td>\n",
              "      <td>0</td>\n",
              "      <td>0</td>\n",
              "      <td>0</td>\n",
              "      <td>0</td>\n",
              "      <td>0</td>\n",
              "      <td>0</td>\n",
              "      <td>&lt;PIL.JpegImagePlugin.JpegImageFile image mode=RGB size=128x128 at 0x7F7753E972E8&gt;</td>\n",
              "    </tr>\n",
              "    <tr>\n",
              "      <th>2</th>\n",
              "      <td>train/images/im3.jpg</td>\n",
              "      <td>0</td>\n",
              "      <td>0</td>\n",
              "      <td>0</td>\n",
              "      <td>0</td>\n",
              "      <td>0</td>\n",
              "      <td>0</td>\n",
              "      <td>0</td>\n",
              "      <td>0</td>\n",
              "      <td>0</td>\n",
              "      <td>0</td>\n",
              "      <td>0</td>\n",
              "      <td>0</td>\n",
              "      <td>0</td>\n",
              "      <td>0</td>\n",
              "      <td>&lt;PIL.JpegImagePlugin.JpegImageFile image mode=RGB size=128x128 at 0x7F7753E97390&gt;</td>\n",
              "    </tr>\n",
              "    <tr>\n",
              "      <th>3</th>\n",
              "      <td>train/images/im4.jpg</td>\n",
              "      <td>0</td>\n",
              "      <td>0</td>\n",
              "      <td>0</td>\n",
              "      <td>0</td>\n",
              "      <td>0</td>\n",
              "      <td>0</td>\n",
              "      <td>0</td>\n",
              "      <td>0</td>\n",
              "      <td>1</td>\n",
              "      <td>0</td>\n",
              "      <td>0</td>\n",
              "      <td>0</td>\n",
              "      <td>1</td>\n",
              "      <td>0</td>\n",
              "      <td>&lt;PIL.JpegImagePlugin.JpegImageFile image mode=RGB size=128x128 at 0x7F7753E97438&gt;</td>\n",
              "    </tr>\n",
              "    <tr>\n",
              "      <th>4</th>\n",
              "      <td>train/images/im5.jpg</td>\n",
              "      <td>0</td>\n",
              "      <td>0</td>\n",
              "      <td>0</td>\n",
              "      <td>0</td>\n",
              "      <td>0</td>\n",
              "      <td>0</td>\n",
              "      <td>0</td>\n",
              "      <td>0</td>\n",
              "      <td>1</td>\n",
              "      <td>0</td>\n",
              "      <td>0</td>\n",
              "      <td>0</td>\n",
              "      <td>1</td>\n",
              "      <td>0</td>\n",
              "      <td>&lt;PIL.JpegImagePlugin.JpegImageFile image mode=RGB size=128x128 at 0x7F7753E974E0&gt;</td>\n",
              "    </tr>\n",
              "  </tbody>\n",
              "</table>\n",
              "</div>"
            ],
            "text/plain": [
              "               fileName  portrait  car  clouds  night  baby  river  female  \\\n",
              "0  train/images/im1.jpg  1         0    0       0      0     0      1        \n",
              "1  train/images/im2.jpg  0         0    0       0      0     0      0        \n",
              "2  train/images/im3.jpg  0         0    0       0      0     0      0        \n",
              "3  train/images/im4.jpg  0         0    0       0      0     0      0        \n",
              "4  train/images/im5.jpg  0         0    0       0      0     0      0        \n",
              "\n",
              "   tree  male  dog  flower  bird  people  sea  \\\n",
              "0  0     0     0    0       0     1       0     \n",
              "1  0     0     0    0       0     0       0     \n",
              "2  0     0     0    0       0     0       0     \n",
              "3  0     1     0    0       0     1       0     \n",
              "4  0     1     0    0       0     1       0     \n",
              "\n",
              "                                                                               image  \n",
              "0  <PIL.JpegImagePlugin.JpegImageFile image mode=RGB size=128x128 at 0x7F7755889CC0>  \n",
              "1  <PIL.JpegImagePlugin.JpegImageFile image mode=RGB size=128x128 at 0x7F7753E972E8>  \n",
              "2  <PIL.JpegImagePlugin.JpegImageFile image mode=RGB size=128x128 at 0x7F7753E97390>  \n",
              "3  <PIL.JpegImagePlugin.JpegImageFile image mode=RGB size=128x128 at 0x7F7753E97438>  \n",
              "4  <PIL.JpegImagePlugin.JpegImageFile image mode=RGB size=128x128 at 0x7F7753E974E0>  "
            ]
          },
          "metadata": {
            "tags": []
          },
          "execution_count": 17
        }
      ]
    },
    {
      "metadata": {
        "id": "qQ6nZiqJVeAQ",
        "colab_type": "code",
        "outputId": "a23f1109-bcfd-467c-956e-40e6a6e1274b",
        "colab": {
          "base_uri": "https://localhost:8080/",
          "height": 35
        }
      },
      "cell_type": "code",
      "source": [
        "df.shape"
      ],
      "execution_count": 18,
      "outputs": [
        {
          "output_type": "execute_result",
          "data": {
            "text/plain": [
              "(20000, 16)"
            ]
          },
          "metadata": {
            "tags": []
          },
          "execution_count": 18
        }
      ]
    },
    {
      "metadata": {
        "id": "k-LqEhR0M31J",
        "colab_type": "code",
        "colab": {}
      },
      "cell_type": "code",
      "source": [
        "def vec2label (df):\n",
        "  l = []\n",
        "  for i in range(df.shape[0]):\n",
        "    p = []\n",
        "    for k in df.columns[1:-1]:\n",
        "      if df.loc[i][f'{k}']:\n",
        "        p.append(k)\n",
        "    l.append(p)\n",
        "  l = pd.Series(l)\n",
        "  return l\n",
        "\n",
        "df['classes']= vec2label(df)"
      ],
      "execution_count": 0,
      "outputs": []
    },
    {
      "metadata": {
        "id": "BXBLq5yYP8PO",
        "colab_type": "code",
        "colab": {
          "base_uri": "https://localhost:8080/",
          "height": 35
        },
        "outputId": "1861163a-178e-42bc-826b-abd5328403fa"
      },
      "cell_type": "code",
      "source": [
        "df.shape"
      ],
      "execution_count": 20,
      "outputs": [
        {
          "output_type": "execute_result",
          "data": {
            "text/plain": [
              "(20000, 17)"
            ]
          },
          "metadata": {
            "tags": []
          },
          "execution_count": 20
        }
      ]
    },
    {
      "metadata": {
        "id": "fpnHgG5Usfxi",
        "colab_type": "code",
        "outputId": "3ba27e93-1bb4-45ae-eb61-347d7deb60bb",
        "colab": {
          "base_uri": "https://localhost:8080/",
          "height": 2955
        }
      },
      "cell_type": "code",
      "source": [
        "HTML(df[['fileName', 'image','classes']].head(20).to_html(formatters={'image': image_formatter}, escape=False))"
      ],
      "execution_count": 21,
      "outputs": [
        {
          "output_type": "execute_result",
          "data": {
            "text/html": [
              "<table border=\"1\" class=\"dataframe\">\n",
              "  <thead>\n",
              "    <tr style=\"text-align: right;\">\n",
              "      <th></th>\n",
              "      <th>fileName</th>\n",
              "      <th>image</th>\n",
              "      <th>classes</th>\n",
              "    </tr>\n",
              "  </thead>\n",
              "  <tbody>\n",
              "    <tr>\n",
              "      <th>0</th>\n",
              "      <td>train/images/im1.jpg</td>\n",
              "      <td><img src=\"data:image/jpeg;base64,/9j/4AAQSkZJRgABAQAAAQABAAD/2wBDAAgGBgcGBQgHBwcJCQgKDBQNDAsLDBkSEw8UHRofHh0aHBwgJC4nICIsIxwcKDcpLDAxNDQ0Hyc5PTgyPC4zNDL/2wBDAQkJCQwLDBgNDRgyIRwhMjIyMjIyMjIyMjIyMjIyMjIyMjIyMjIyMjIyMjIyMjIyMjIyMjIyMjIyMjIyMjIyMjL/wAARCACAAIADASIAAhEBAxEB/8QAHwAAAQUBAQEBAQEAAAAAAAAAAAECAwQFBgcICQoL/8QAtRAAAgEDAwIEAwUFBAQAAAF9AQIDAAQRBRIhMUEGE1FhByJxFDKBkaEII0KxwRVS0fAkM2JyggkKFhcYGRolJicoKSo0NTY3ODk6Q0RFRkdISUpTVFVWV1hZWmNkZWZnaGlqc3R1dnd4eXqDhIWGh4iJipKTlJWWl5iZmqKjpKWmp6ipqrKztLW2t7i5usLDxMXGx8jJytLT1NXW19jZ2uHi4+Tl5ufo6erx8vP09fb3+Pn6/8QAHwEAAwEBAQEBAQEBAQAAAAAAAAECAwQFBgcICQoL/8QAtREAAgECBAQDBAcFBAQAAQJ3AAECAxEEBSExBhJBUQdhcRMiMoEIFEKRobHBCSMzUvAVYnLRChYkNOEl8RcYGRomJygpKjU2Nzg5OkNERUZHSElKU1RVVldYWVpjZGVmZ2hpanN0dXZ3eHl6goOEhYaHiImKkpOUlZaXmJmaoqOkpaanqKmqsrO0tba3uLm6wsPExcbHyMnK0tPU1dbX2Nna4uPk5ebn6Onq8vP09fb3+Pn6/9oADAMBAAIRAxEAPwDp/C3iU2l3rbwQsIWvt7wsmCmep4JAyQT1NdTb+JLbUobuGC7RZMkiLZyuByoPAJzzXA+G3FtqWrWs8qi3mWOZSPlU7k4fnp6fWp/siQxBNLY3KS4d5EHzg+mO/HNcnMzSw7xbZ3Wt+KPDmhXNwZy6m5dkCq5THPy9AQFPfvXqNg8cVvHbW1k1rDCfKWIptAA6bfUV4douoyz+MdZ1SeOeWaG2azgTBJUnCkdc52g/QmvaNBuor7SIpoRKAqiImRdjZXj8qtCNntXn3jLQNQBm1OynnzvXEEClmTOQz4zknnjHQfSrfi+/1SLzYobprK3a3Z/OyCG7bV7g5PJPtXmUd/resXaWekX9zFKBukf7Q3AHUkkkBB6c8n3qrks6iDVtNn0G6l0aL7PHao7TMEMZl+bJXPIHbC578Y6VbXTbfWV0SGOKztY7sSXLPChErqoA59zyKzptP1Cz0F9LvPPujdXBmDBWDSu2PmKocDBAIznjpg1f06y1CzvrbUdV1CP7TFhTE/3gmDlcdsg8+/NJbjsza0LSxq8LrdBRBZXEkUce0gHOBkkHk4wMdKwPHnkaYdDk0uZJriC6lcKpz83GB7DPFdVpN5aHTZJY70r9pkaRpMEYfODwfTgfgKw/Fvh6LSdNsNUiuHa6gvF82ZjncrHnC9Bzz+dO+o2rFTw5p721tKuoxTPql5IZri5kkGWI6D12AVpahrltoOl6jfXCgXMVs/2cHBO8d8ccAlTmtrxNMllBEtnama4xuCqpJx2LH05+p7c1494s1lLgNpkRaRri4zPcyMu941OSoHRRnOBUWtIOhpAana+AtL0uxLP5tsbucq+394xLn6kAdK5W51RPt1nfXDm5UIrMGQQhmA6Fs5IH4DrituCyvNV0NdQeRrW2Ul7dZxiNkUMATIeAScgAcnb071kXVj4dTT7a8XXDe3LlflZACuB825WOQOFC89e2BzUY9WS2SN4kudXv829vaPDBBLJHBKPLjhjCHIQE9OfqeBVz7XZ6p4YtYJTo48qRS3lQebcSzMMfcGDtUYGM5Yjv2s6doujXE+l6bZTWmow3EvmTSwIVuDGEJaNsnCncOx9+lQz6Vpdjrl7qltp0kGjR3Ji2zxl/JcKcNwQCpbgDJ6c1Wwi7pfiG2t/Gep3ssU0sLwjykIXOOO2cY61v6n4t0u7sOPPjkCEkBcbPqRwfwzXnSaxcQeMLiYG2NwiPCBGmI+FIHHTmp9f1u+vEGlrPbyAxJLOYoVUJ3K5HXGRSsrWLuXvh7NHaapJezkqszv5crNgZHLc+nSvSovF8MejXckV5G8fzRx4TzMuQR2PAB74rx+3f7VFbaZGskiws0iW8OATkDPJIx0GauaVHcPcrFbWreZHKU+zb89OvONoPWnZvYVzbhmttWgWDUL4WksUYTKxEoBHuAyT8xyCAOcdSa1YPD0R1GCe/2x6cYAjXHlNGSC2QmF+8CeMntjvVbVha6Z4hiiNsZd1qruPPAKnPOGxjGOO+Ko6z49vL7W7SwS3gRNyw7i24AZGAT9QKLWIvc6DxR47bw1Zw6dpICurYaeR9zY5+UknPv1rjLDXJJ52kmMlzI7ZdQSWzzyPTNcz4g1nT9T8QPBeyPHCkxHmxjpzzntVjXddg0HULOHTNPhjhW3DCUj55Q3qT/Dx/kVcZNaGjimrnp9jbpqkaRXV4YVjwy26AqsY6hsjv15/Mmu1t4F1fTLvTnvo7shQDgfMP7pPvXjvhXV5fE8V0lzMIbhfmj2sPnHRgf9npwOtXLDxJdeF9dVmUTZbYWUHYQePy71UuVkpSSPUtRhaygHm3Tu7IPMI+/jsAfTrXDQeA7ie2nlSdVnueGiC7WROSArfkSMc4Fa2o6s0ypLEPtSlAx2qRhu2eOBTdB+33s887xXMce0/vZQV+XH8Kjjr0NJQRDm7nHeMfLmt7Szv5ZW+xx+WEVQFVBnuPvHcvBPerfgnwxpC6MNa1+xmiKv5kEkkhiBX5QDjIPH3gR1z3rH17UDLMUtIZ4riJ2ADNnzATyeenf65rX0G/a7itpNdDrFpCJLskaRpJHB2hgNwwNrYGGCgjuKyu0WR6lFo6+LLOTSEaW3vJvLiudO8xp1lX5sbnwNzhgpxwFBPer19od7o189lp+paooMvnzpJaRvuzHgSnJHVwRt7AHj1qeNp9LsbDSxpd0t1F9uW+mG/JdioBUgbQg+VflHb6c5VvrP2mSSfUtVlDzzpIUj3yAH5sg7c8AYIGD/OhyA820qci6ALHDDGAf5V0lnbgPJdysqqWVPLJxlm6ZPauNt2KXEZyRtcZIreOWsYc7SY7pN/mH5cYIGRVPcEbkESx6sRKbFy43MZpP3Y44yV7iuq0jTfLtjAl1bJunaSSOA7l4+7yTwuCR3yK4pJV/tEHfpqDZ1KkxfiPWvQfBMWmXRLWk0C3W47gCRux1wPTpirgrsUnZFK51mIFo/s1s1sQVm3qykqOh2n0Hf1x9K4G9ZLp7i4idRDCFCfMFZySBnHXpk5ruvFPhu4gmv5bfAjCEhJVKB8dQpxjPtXnN5bG1ig80n95EHUIuMgsR1PuPSiXYmK6jLbw7c6tmSJ4Tlwm0yqre5C9Tx3r06+8O2Pi62gWKCe3S1iESythWGBjBB+nWuB0yRbS0kuvsLSSOHEZ3n5MDIYnvz0rotH0+5164W6OpzLbsd3lLcEeWT1HFZTbOqiou6Z1Xh7wxpnh+Vms0ledl2PLK2eOOABx2qx4itRFo8rLJ5aEorMFyQpznvSNcx2Lx20b7nI2qmck1otbWur2Uml3ZGyZCpcjdtJHDY9jg1mnrqaSVloVfDkcE+noYblXlikVX85tuU4yAM9e1dLrkYtLeWY3EtpJKZFALFs88cKemK8pn8J+K9DZvL02efy8ql1bJ5yheOVI6fjyKksdZ1WwfM6XF7CjurRuuMFcckHPFdUZK2pxSix/iDSjp1u1y0shMsy4OzLH5c7gevWpHZ49AklXzVVolQiRmJkxyMehyc/4YqTULxJY/NdpXjeRdwx1LLuGPYCsa+1Wd7Xy0xGkeNkAVlDBunA7/wA6iouxKMzUrma4sbUJIwgknDeSpOCwzye2ef8AOafBcyC1ImeSIyTtI9xGpJwAB1z9fTGaj1Ge1HhwPLZ3PnPIJI3WUBFJyrHGOclRxVS4t7prISY8mIMU2E8+pP8A+qsmlbUs5TzSpdhxznFdLpWJt8Py7nXzNzY25HzDPt1qjr+n6ZZ6hJDp90JYsAKQ+75tozngd6ksHEaIOSdqkqBWj2GjUtvMnvWeFrZysJb5Yvk47YOOa19M8ez6HCLfS7W0trhx+8uprcO31C9Bx9at2Swwh3uI7UXMUe0SySKluiZzzt+8T0/GuUms4ltrS4t1eO4hYx3CSkFSckqye2DjHbA7GmM7PTb3UtSvmN/fPczSlpDI7Md2OQNv3QPb2qz42037Z4XuL0Iry2s3mBiOfLYjeOPfnFR+EtZ04ay2nu64ljRkYAjEg5KnP+eK6rUoZ7XSNRiiXdvhlaLnqSpIFZO6kdMbSp2PE47h0tlRbddo3HfuJ+8uD+lWNOvruzEjWaY3gAsGJHH6d6TTr6OW4Z+ZLeCNVhmlcRmKRuhIHUZzx3rtfAXh3S9envTfKZbOG6W6uZQxAAG4JEOxZjzx0A961fmcyXYbobSuqTqvmSN9+Qd+/HtXRT6l/Z7xR5CyPlnf0A//AFiunntYrmeS6aJIweI4kACoo4AAHoK5DxJA0N1Bd+WGiGVPOCp7fhisUlc6G3ync6JrzhIUBVVyAQTj5vX8TxnpVb4geDrfxRpcmq6Ynl6tbrvGw488DqjY6n0Prx0rjfD1/LHchkS2YjlkkzGwxzzjr+HFd3aa/BZzRsIwizLuKqfun/GtdjFrQ8e/tUS28TyRBWk2u20lSWClf8anvVu20osdMcWvloxnJYgqucH079a1/iF4cMV3LqOmYa2uB5yRs+NkozuUeoIJbHsa86Oq6hqOnm1knZY41+Ubzjr0Iz0prUl2WxNqepW0mnvBHGA5AHEh2j58529M9s1KLomwRHgaRFyQzSNgZ9umc9/euad8xgngg7eD1q/FO155Nt5pjCLyzDA9/wAPahq5J263fg2QJ5uiapiN94cGM5PoeK425t7ppJbmO0kS2eQlFI4AzwM1tiRjAI1ihVs7iVQgn6nOahR1MpNxESufuxSYx+YNRdhqMRru30G7urdo438vHABYAbVbt/tY/GotL/0rSWTUpJtjndFhctn7ucn2H0rWe8037DNbx6V5skiuqyPcMNobttx82CAc96EubVNLW3mL3Uqu3lYUJsXAHORnrk4o5nYbsZttoy2lx51qLloo8ZLDGK9V0W7N9o9uzyhkIw2Dn2NeYO26MLGrrgZZQ52n6Cuv8MXMkentE0RjH3kBB5Hrz71Em3uaUZa2OasvCNxqC3+h2UGdSW6Cx7AAFCk5dyTwoXNevaHpFr4W0SDS7ZonjJ8yaaT708jcFvQDoFHp71i2Wr6dpt7PfxzRSX9/HHHPCUwVCZBwenzcE/StCfVbmYyG3ijPlnCHKsD+YOD7Y+nSrcrouELPUtX1xcQMGNtiAqWLJngA9weR/KsLU7pbqDYUR1z0cda2xdpqkMDOPLLplygAJccYy3J78f0rmV2ymb7PLtETtlWAcS8Ak9tv4d6hq5qjmm1GdGaODESoSpCHkYPSuh06C4cxtcuFDqZC5OTgdfx9K5jUrmFdQivFX93P+7mT0YdD/T8K2rG7kk2u8gDqgUFcDaex/I/qavmsrmDjrY7FdLTxJ4VutNnby55B+6cjJjYfdb868Ynt7TTLu4tZrGRJI5XBSUkEAE4BBPPTnrXsFnerahWQ/IFxg1p6ra/25psWoNq9zb28SCJ4vISRc54bBU4HQflWFCu5xlJ9x1afLZI8Hs7gXkmyPT7d03AukKhc5+9xu/lWhZ6Ta3sbMdOdQ0xSJB8yqmeC/PAyDzWxrHhOxv7yTHiC2nkC4wlpsOR2YKAB161jReB7pW3RahZRA8bmuPLOPp6Vv7WLMLM9Bh8IaXFazSSQXtxNglYIjtII7HNcpqGmTLd+Tb6ZLbpuI3zncSPXpXr1gYpYSbOaEK2D0DEe+e9WX0y3ulKXTbwBnsMk/Qda5lUZq432PILDw7cTJ/o896JiSpKRYQj1PfFVz4cZNQe0l1C2jYDhiCM5+uK9Tu9HtdBsbm7g1ZtNZmG57iUspxxwOteWy6Ve6/qsy6SJ9U+fDXhTYn5elXFt63IcbGZd20lhdPH9ojLoeWR84rQ07UrSAQCMSCVsiRmbKn0xW1/wraeGyWW51KCNyeBjKZ9OuaxL3SJLNYxLCyhsgSQYKu34801JPS4RvF3Nq00955JL9YLeTJKR+YPmJAyQp/hPTmrUkguJgGikt03LJJGGxuwv3lbGG4Ocf1qLw7c6TfwyacjJHdRSeYYpnyZFAyDn16A+mPatbSrfYkcOpRma4ZSot3UFhkkkk/1rQ6V3NyfSI47fYjokgX91uPQ/09OKwHklmS3nmEEEyxyxywMc5IP8JHbg/pVS61ILf29tbs0qtLlMyknsM4/i4FVL7V1v0nQNFDHE42zTJuB64Xb1BwOvaiw7MlbTxq+nNCfLdN3LIjPluoxgdM+9c6FigunW3lDGBwhZXznOM8e2SOK1LXV20+Tf5P2gEDbEp4YnthR0/WuV0y38y7vLfLJdqpeFGGPMI5KexIzj6YppJ3RhN2Z6BpzQ3CrbSTgeZ03PjIPauh0vVHs71rSRYjbSr5bRup5GNpGe/wDhXl6XzoUYA5zyD71srf3F5eRLCxaRvl471zwdtIrc1m1a7N7xTZaP4evEEto4gZd8UgV3DD3IPBHIrmJli1lDFo205bmGeYtuOc/KCBxXf3Wmtf8AhOeyurmOa5C7oFb+FvQHrz0rxqf7FHu3LcwSg8BCDz9eMVcYmEu56FN4ksNLkXOqucc+VZoGUg9iT0qCDx9reozSW2jpbW1twBJcNll989M1wNxa/ZpRFGg5PrjP5VqWKWEcJNzG33shicgD6A0ezSVxczubdtbwtePeaskusMrZcs+2ND+n6VsXvj37PbGGys47Foxjyhgr+AAzn8a4nVdR83EVkXit8YCb+o96ylZRcfMS6g5Ikyf1FNQvuHNbY3rzU9a1N2kmuN/QLkhcA/yq9ollqGszut3erttkIjyRgORhQcdR1zxmuYeRuAkg24+6TwTXaeBnaK1kIiBlZ2X2U4GD/T2qlGwR1ep5xqCX1lqswuvMiu1kLE5IOexB9Peuo8NePzpRaLUrQ3UchG6aNsSDr2PDdT15966PXdI07U1Zb4CCcgrDNknacbueOgJxz61xOseCdZ0lWkMH2mBVBaSD5tv1FM9BShNWZ3kmqeFr+T+0bC6je6HIhmfyXB7deg+lWLPw3HexwXM6HcJHkCn5txbGMnp2P14rxh1KsVcYI6hhyK3PCsF5d6/YxQCWZEnSWSMMdgVWBJb0HFBMqTtoz0L+z9H13XZbOS5trS3tII4zJG3zNMWZjtOcZAOD9K5PxfYy6L4mzbTvMsMUTx3ByS2MAkntg4FT3l/cad4o1TUIFGmzPfSurjaxT5zlQpGPaqlrf6bfXN5e6l9rXU7hm/feUJo9p9V3A59zx9KcV71zhbuLdzldTlZPnhkG9EDA7FbnA+npWx4euo7Vrm6duUjGwY7k4rJ09ktoy0BMoQFMSAE7ew/KpHnhicywRZQ4zGTx7j6U3HUObY6XS766vtRG6RgucnB/rUWv+DYdS1a6n064jjkkIk+zsQASRzg/XP51iL4ojiysdp5cgHBVuDUF7rd60A1CKQiaNxyD0B7UmnbTQqdTnZhQTyj7kmcHjjJ/LFSTSynGVkyw3cgfN71EsTxRhtrKOoqMXTOWVoxnjB6nFMzJJLwu2SFEzcblHLVE0kaLjO5hzyxqE/MRIdmM8ACpklSOTLj5uoz0pMRYVmZwSflI+6Bnj6V12gXAi0+SVSoaG4G/B27QR1I79GFZuk20FzJG0hbYTt2k88de3pXQ/YrW0vGjtm3LcBo2EpTgHkAj8DUc2ti4J3LVlPL/AGkssgjnQ4LD7xGRncOOMfyPtW+JoWtnjVtySDZt6gfhXA2VoRK88OpGO5Riqr5mVXBwB05GMV0kUD3EYkn8sO64Z4mwG9iP8mqZ0WuMH2O10yWCe0iuDasxBmjWRiBk+WOMk+nt1rp/D9vbXMbIsMUMYUYggUKmc4+bH3myPoK5xbCR52klZGgHKhc53H72frgCtcX9ppVtAkjNHbowb/R1GOCSRz60xM4P4p2ZsPiFeQ/L5cqxzQqF6Bl5AH+8GrBRI7OHzJwzMeoB7EV1PjfxTbeKNdtdQSxa3kSHyQztkuAxIPT3rmLmRVzwxd1GQOQPTiqMbWKj3I85TGGVUTg7uT35x9aja9ZOO5602WRCxIJ3Y6Y4qpNImc4LN9MCmZX1LLT5JOAeKnGoQLps0LA5ZccnvWMzkHJOPx6VEzKowGP0J70nG+5ak1of/9k=\"></td>\n",
              "      <td>[portrait, female, people]</td>\n",
              "    </tr>\n",
              "    <tr>\n",
              "      <th>1</th>\n",
              "      <td>train/images/im2.jpg</td>\n",
              "      <td><img src=\"data:image/jpeg;base64,/9j/4AAQSkZJRgABAQAAAQABAAD/2wBDAAgGBgcGBQgHBwcJCQgKDBQNDAsLDBkSEw8UHRofHh0aHBwgJC4nICIsIxwcKDcpLDAxNDQ0Hyc5PTgyPC4zNDL/2wBDAQkJCQwLDBgNDRgyIRwhMjIyMjIyMjIyMjIyMjIyMjIyMjIyMjIyMjIyMjIyMjIyMjIyMjIyMjIyMjIyMjIyMjL/wAARCACAAIADASIAAhEBAxEB/8QAHwAAAQUBAQEBAQEAAAAAAAAAAAECAwQFBgcICQoL/8QAtRAAAgEDAwIEAwUFBAQAAAF9AQIDAAQRBRIhMUEGE1FhByJxFDKBkaEII0KxwRVS0fAkM2JyggkKFhcYGRolJicoKSo0NTY3ODk6Q0RFRkdISUpTVFVWV1hZWmNkZWZnaGlqc3R1dnd4eXqDhIWGh4iJipKTlJWWl5iZmqKjpKWmp6ipqrKztLW2t7i5usLDxMXGx8jJytLT1NXW19jZ2uHi4+Tl5ufo6erx8vP09fb3+Pn6/8QAHwEAAwEBAQEBAQEBAQAAAAAAAAECAwQFBgcICQoL/8QAtREAAgECBAQDBAcFBAQAAQJ3AAECAxEEBSExBhJBUQdhcRMiMoEIFEKRobHBCSMzUvAVYnLRChYkNOEl8RcYGRomJygpKjU2Nzg5OkNERUZHSElKU1RVVldYWVpjZGVmZ2hpanN0dXZ3eHl6goOEhYaHiImKkpOUlZaXmJmaoqOkpaanqKmqsrO0tba3uLm6wsPExcbHyMnK0tPU1dbX2Nna4uPk5ebn6Onq8vP09fb3+Pn6/9oADAMBAAIRAxEAPwDYTWnJctLIXOOkmQKT+1GIz5sxJ9JqrSCSQ4eQZHPCYzUE0rRkBniA9BFkmtrnnXZbbUD3mu1Oe0v/ANeo31Eg7Xub9fT95/TNV3uLhwFhsouO7RYxn0qER3gck2dsD3IHP86Vwu+5Ya+Rmwup36e24mlWe7YgDWLlV9Wzx+tRieWH5XXr6gjP61K0zeWrmCNlx/fP8s0XQXZdAKw7l8QTyP6F+T+dU5NT1OJsLO8ijvmqJmPm5NnAwzkYDrj+eaGuRuBNqAe5D/8A1qWg3JmiurXRHzzyg+xP+NOGq3Dn5btz7Bv/AK9Y3ntk/upNvY+Zk/yqNpEZvnS4x/vrzRdBqbgv7s5/0iTPoTj+tRNqV+OVZyP97/69ZEjwscYuU+j4/rTBHGmSJbwD/eyKLoL+Z2uj6dLrcG+a5miIOMbsf1pdV8N31jHvtL6Sb/Z8wg/zrmraR7WHda6ncIf9oVpxeKri3gVri2kuEPyiTJAbHXHFTrfQ0jKLVmVzb+IANxSZQO/mt/jUCapfREpLeSpjgqJmNOvPFs91hbdjaA8bSrZz06is68hu4JFkkMbFh8xIJx+lVfuChKSbgm0tzYeOOMD9wSD0AY/rUun6eLt3d4GSNer5PX0FUopoI7sbZpcgZCybwD9QTitK71uaztEeWBJgCqO0R2AZPUDnIHFNs6MNhvaL2ktuwtzp1tbRgpvDj34P4VjS3sVqomvJre3THHmHr+tbMur2t4fKhyJ0HMMgww9Tj6Vmav4f0v7JNqGqCIKqgRLMdoLenJ6mpjL7jWrhqco81NWa7f1uRadq2ialc+THqFvLIThUCHJ+nNaR0a3uJlihkQOzbeVI+vesSJ9PtEH2aOziHQFUQ/ruqxaawkFz5qzQlARvCsuf/Qqcn2OKCg5pSuomlrVj5V5boZUEJxGu0tlQOPx/Okm0m1MLNbXEu8DIRyP1xyK5rxFqOra3dsllepp9rt24jlBkl/3mBGB7Dj61Q0Wy1bQ7g3EGoeeuCHiJByD1wdxwaxjGSWjPUm8JN3qO72ub7RzbVJt5cHsHGakSzncZW3mZcZ4KnNWfDd7ZQ6zf3t3dNcXbbVCryIgR/gP50anFpc+pvcwxXpRuXit2AAb6ds/gK15upxTwU46LXX8OjIbbTluJikvnwDuWTP8AStG9s/DsTOYY7gyQ/IwjbepI7kZ4NUY9G1S7McmmtciJ+oe7wUPpkcH8KpwSfYEuLZow+6Ys+Jh97o3X3FTNS3iaUI06UnHER369P6/pkwsku12qyW0ZPBfc0j468cKv5mtbWGRPCk8MaqiwxqyD3BHP86w/7Xk8x1ayOwHKETKST746VDcalc3sskUu4WxbKwrFngdATk555pxv1Np1MNCDULNtdEXNJt7M28V1v3zgfMOu0+1WNY1TzLCyh023P2tGdp3kgOORgDOefXP6VgPEkbBkM0bE9ViYf0qvHbpbXX2iO7ljYnkPvIb2IPFEoXCjjaMYKMotW7HWQaRpkVxFHBHcJPuwqSXshRsj/aJz9KvS2FitzGGeYyqOcPlVOOMDFWJNFF7azwoBK/yYQtg5ByMMeh7g9jWfb+JdDtp/s0d9ZNcb9m7zgwyOOvc1XMi4U43agn9/4lRrMR3xnEl9Zvk7bj5CD04Ulefp71B4g8Pw+KZYGvNXvQsAJjjSKMKucbj+OKk8Sanf319Y29vDvjiZmkzwMEYH41NFdLDEN1vKhzySTQrPU4q8qlKpy8xmR+EfJTZDr8rBeB5lmjEf+PU2Tw1qKH5Nct29A9lj+TVttqqtGFijikftlhz+lOW52Lg6d8/UndkH9aqyOf2j/pHOjR9cLhE1DTWGM5NqwH9ajm0HXcff0huvJDjP6V0LXVpvVzayxsD/AMs5mAP4Dr+NDXcLkqZZFz6v0oHz+S+4wNC0TUtN1K4k1JbEQzoAHt35VwcjPHua6TSrdrO+3j7jcMW5yO4quLmEkr5hcJ1y3/16jWQmTKyKgHTLH/Glszqp43ljyTWnkVfG/ifV7DUf7E8N27xyGFZJrhB+8G7kKn93jv1+lcZbx69AiK2i6gcHJZJGyf1rvDHbPO07mJpm+84clj9TTxz9zYR2GTQTVxSnolp5nH/2jeoP3mkauhPX90W/pQ2rRKPnt9RRu7NZ5x/47XcI8qLhRj3Bpn2y6jBCu6HHbnP5UWRz88O34nELrenKTvujkjpLbFf5Vbj1zSyoX7VZg9wzlc10UmoXJc7pRnp8w5qBr2FiUn8t29XiB/pSsgbi+j/r5G3aX1lLbzWNxaSfZ5EKSmSRMSg8evp69K8/l8G2lrId6SbmYgQyTLhV9jj5uPpXfSxblwDcj1BaVf5g1UniM0vmNGSFAHQ5yB7jrWVWThaUT0cK/rE3CcuXTpbX7zO01n0y1FvHDLhOAQwJ/PNTy3d3KpRRKQfvDOf5Gpn0Wa6TzpmEKlN8kjyFcYGePQDFYWm6vY3lxJbw6nPMd22MrbvyP97cOPyrSE+bdGeJwLprnjLmXXv/AME12uUdAjx8qR95W7fh/WngWyEsUg64x5pU/qBTDpN1LkrcZ9AVcZ/8eNZV1pWrCdhERKuACPMC4P0Yf1qzhSTNp00/HmNMqP7zAY/8eqBZbV7iSJ0lOwAlxKCv065rnTo2sTXESTRr5YYMcuhzjtya17hdViIUafG8ZGCwdFZefr0osNxXRliFbN5JWDSqoI2ldxqVmt0wPtjL6bhz+orMu7e5BNzHYTvIvGEk+U/gpNKl1IqKLiym3jrsDgf+gmixPKXJLqKJQTfWzLnq8ef5GlMqlfkubck/3Mr/AI1mHU4WjfFldpgkFWZlJ+mRzT7bUrZwpENwiqcbJDEP/QqB8p0FlpWoXY3xbdp9HP8AhWgPDepld2+UMvUFQc/jxU2jajpTxKrBkbIxiOBif++a6WJ7NhkTXIXqNttn/wBBrJzaNo0k0cLe2V9aNma2ldf7wjJx/OsuS8RyA8cgA/vRkD+Vel3cVo6ZFyw6/ehmGf1FcPq2mRm6lkhvkh77vOYAn6HOKqMrkTpqJuz2ViA202i47rO6Gsk7bYgLINgJZv3pkB7Dk1zc174TuQuzVdaC9v8AiY78fQMD/OmfY9FlkV4/EWqouPl3PG5H5rSnTlKNtjooVY0antJK+jXUveI5b3WLZNLs1eK0kwbmcMBvH/PNQTyM9T07etV7DQEsgqJHJxxnykb+VS/YbR8OPFl4rYwPMtITkflUUmnPGP3Pim3kBP8Ay205c/mrVUYcuhFfESrayaS7al6S2kTEhk8tD18y0wB+Oaha/mSRY40jlHQMAyZ/Wnx2UtwI2GZIh97a2enWq11vtxJJJGyMxXYD2yf8Aaz55Sdono0MuoxSlVlzPsnp+Gr/AAJWvZ2QebAhQEdGIb+dL9vLARtbu39wmdT/ADFZt/qSk29uEHmOCfouf8elT28izDFx5RDD+IA5I9BWkYy6lVsDRmvcXK/nb5kxuGzj7M6nkfJsOfyxT3nmbmSKUqB0MRz+e6makn9kpHNLZQPaSnaHS3OUPo2PxxWW3iPRVYbkVQfaVMfmKqx5E6FWDtKJrtdom0h5RxnGJAR+VOOp25GGlJ74ZiOn1FZcXiTSScJdQovoLxlz+Yq5Fq+nscpeOc91uI2x+lIjkkt0XItRiifeiQHHUl0rUt/E9vtCS2kJHTIEXH51zsk9hKVVZrgyMdoxsYk9gK0pdHgjXM0kjEDlQFGP0pSstzSjSqVH7hrf29ZSA4tsHPaJP6GuUvbnWbK6e6F4bq2LEiF0KbB6KQTgVNewW9uyYASIgHJjDkk1AIbVwV+Rlb1gI/rU2jJGyqV8JU7X+5o1LmFp2U/YNLfjo+lRMD+uf1qs1halgZPDehyqPvGO3khJ+m0mteK5it4wgdlx/fBqKS7iYbWMZyOcCtDj9pLuU10Hw5IQsuhywE9Ps98+PyLCnJ4e0mxmW5sUvRcRHfElxOXi3DpuXdkjvVrzY3GBMQOwD5p3n4I2FWx1JoGq0073OcuoPEczEzalAYmOWiSIIR9D1B/Gq2lXM08iQTHziGyxfmupPmS5LwxlT1xj/Cs5YDpbSyRWn2mRzlQ0gQD68E/lWfLZ3PYwmYwlGUa9r7p/mhNMKGUQTxRNIpOT5Yyy5wP0rd0i0MRZHAYhvlbaORXLtf6m10JX0+yBAwQk7A8+5FLf3GuahatbBorW3f8A1giYl5F/u7scDHXA5rdTVjWeLoJX5/zKHibUNW8S66f7KljWx09ikBL7Q7dGf3yRgew96S0TxhEQ3lwzjHT7QoxU9pbalBEqQwAqowgibAx+db1rZzxR+bczkE/wg5IrPmS3PPbq4mTcIprz/wAzJk/4SJow1z4YilXu37pgf1qs3mugMvgZHz/EtmhH5g1o6laLNN9pW5ufOU4X97kD8MY/Cs/SrsadppRbp5JpHd5JAwG5iem2iM4zdkTVw9WjHmktPJs3dJ0fTbALfNptlb32Dt8lc+WD2znGfcVZvi08Z2dcjbz+dc9FrM6hriOM3bAjEbHKD8VGf50q+LtQidjqOhyqnVJLcdPwb+dTJPsdtCrSlBJPlfb/AIPUteJHhh8PyPcqxi+WN9pwVBOM1y1vJ4bZRi/1FDjkLeY/mK67TNUttTjaeHe20kvE64ZT7j+tSO6XmFe1iDjAJKDbjnOePpURqxjo0GIw85rmi72X9eRPJckYAaQ8/dcDkU1ZYXJGdjY7HH9ag3lAQpEjHjGSaV5Y41DMihz3UVtc8MncxEldznA7qDn8xUZVUXcpbk4AwVx+VQrIJdzeZ0zwvXiohKzthmxxx8oouOxobAwJWdge+X/+tTShbpcKW77gDmqqysp+7uGOoJqN5ElOGQj6ii4rE7gPErMYTjGTnr2PGaetvKsiJvUI3Vjzz7ZqkzxlduCpGR1z+hp5eZdrx9VIY7hRdFR5VJOW19fQ2GAhgWOJMKOB7/Wqt1M37sjOGYBj6Zq7cEkDyzguPvHoM/8A1qzZpzHC7ZyEwF3DOT6mlJI+matothjAfaHh6hYyxrk9Jjhe4VpoFfdyrOOgz9DXTW+qwStdGSJcKdgZTywqpd6fHp97bX2StnCgXyz/AA7vWsmuV3QpJSpypSTs+xY+0iJWHmBcZKoqAFR9RTxcSzxhWt+2SGxn8jWTeaLdaZBNqCH7YCMqgyzLz7c9DU0dvfyJE4kdGYZbac7fwNap3R4Nah7KVr6dHsE2mtJNvhe4tph914ODirljHexfJdO8uP49m0sPcetXtK0+9LiTzY5PdosGuojtpTEBiJlxyBkf1qJRT3KpYirBWi/1OYW2yu5kKsR2Y1EqM2SH2EH+Enn8zWgtnfvvzbS+4KY//XTTa3kabkspNo4wI60OSzM77O6g5JLc9P8A61PhjO05YkjkgqDV1Yb90IltJsd224/lUYtdQV/L+zSqh6PgkmlZD1KjrlTuaRfbOP5VHJFui5Ykf7RzWg9lqMwCixmdc854qN7TVlG3+zpyPVRmmCuZh/dIQInYjuUyKOPL+ZlBPYAitBtM1I9dPkJ9QDVc6fq0ZBGmykH/AGSaQ7Nk1vfLBbpHKcxjhWPVR6Gs/UbszP5cLLg/3eevSrM2m6hMctps2OP4MY96pyaNeqS0Gnzq3XIjxUuN9Uelh8dyRUKqul1JtI03ymea6YLBAvmO56YHJzWLqHxAjuVlt7fSVeFjw80h3MB0OAOKt3en+JbrTpLeVLlbVuJI0g+ZwO2QM1lQ+HrtiZJdIulVeBiIgkUlTT1nqdksbBr92WbfxgDZSW1vamK4lyPnbKqCMEg9+O1db4a0iy1OyWVZHd8YLLI3B78Zrz5fDGqXV5Iyafdxxj5sGM8eldl4VsNVsgI/sNyquAJGCYJx0I9OtW4qK0OHFzVSzvsd9Z6aLZNqXFwcerbv51PEjoDHIRvOdqkg5H1xUmm2c8UbO0UoZ+cN29qtQiZgyTRsZFOciPpWbuYRSsf/2Q==\"></td>\n",
              "      <td>[]</td>\n",
              "    </tr>\n",
              "    <tr>\n",
              "      <th>2</th>\n",
              "      <td>train/images/im3.jpg</td>\n",
              "      <td><img src=\"data:image/jpeg;base64,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\"></td>\n",
              "      <td>[]</td>\n",
              "    </tr>\n",
              "    <tr>\n",
              "      <th>3</th>\n",
              "      <td>train/images/im4.jpg</td>\n",
              "      <td><img src=\"data:image/jpeg;base64,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\"></td>\n",
              "      <td>[male, people]</td>\n",
              "    </tr>\n",
              "    <tr>\n",
              "      <th>4</th>\n",
              "      <td>train/images/im5.jpg</td>\n",
              "      <td><img src=\"data:image/jpeg;base64,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\"></td>\n",
              "      <td>[male, people]</td>\n",
              "    </tr>\n",
              "    <tr>\n",
              "      <th>5</th>\n",
              "      <td>train/images/im6.jpg</td>\n",
              "      <td><img src=\"data:image/jpeg;base64,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\"></td>\n",
              "      <td>[]</td>\n",
              "    </tr>\n",
              "    <tr>\n",
              "      <th>6</th>\n",
              "      <td>train/images/im7.jpg</td>\n",
              "      <td><img src=\"data:image/jpeg;base64,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\"></td>\n",
              "      <td>[female, people]</td>\n",
              "    </tr>\n",
              "    <tr>\n",
              "      <th>7</th>\n",
              "      <td>train/images/im8.jpg</td>\n",
              "      <td><img src=\"data:image/jpeg;base64,/9j/4AAQSkZJRgABAQAAAQABAAD/2wBDAAgGBgcGBQgHBwcJCQgKDBQNDAsLDBkSEw8UHRofHh0aHBwgJC4nICIsIxwcKDcpLDAxNDQ0Hyc5PTgyPC4zNDL/2wBDAQkJCQwLDBgNDRgyIRwhMjIyMjIyMjIyMjIyMjIyMjIyMjIyMjIyMjIyMjIyMjIyMjIyMjIyMjIyMjIyMjIyMjL/wAARCACAAIADASIAAhEBAxEB/8QAHwAAAQUBAQEBAQEAAAAAAAAAAAECAwQFBgcICQoL/8QAtRAAAgEDAwIEAwUFBAQAAAF9AQIDAAQRBRIhMUEGE1FhByJxFDKBkaEII0KxwRVS0fAkM2JyggkKFhcYGRolJicoKSo0NTY3ODk6Q0RFRkdISUpTVFVWV1hZWmNkZWZnaGlqc3R1dnd4eXqDhIWGh4iJipKTlJWWl5iZmqKjpKWmp6ipqrKztLW2t7i5usLDxMXGx8jJytLT1NXW19jZ2uHi4+Tl5ufo6erx8vP09fb3+Pn6/8QAHwEAAwEBAQEBAQEBAQAAAAAAAAECAwQFBgcICQoL/8QAtREAAgECBAQDBAcFBAQAAQJ3AAECAxEEBSExBhJBUQdhcRMiMoEIFEKRobHBCSMzUvAVYnLRChYkNOEl8RcYGRomJygpKjU2Nzg5OkNERUZHSElKU1RVVldYWVpjZGVmZ2hpanN0dXZ3eHl6goOEhYaHiImKkpOUlZaXmJmaoqOkpaanqKmqsrO0tba3uLm6wsPExcbHyMnK0tPU1dbX2Nna4uPk5ebn6Onq8vP09fb3+Pn6/9oADAMBAAIRAxEAPwDnAKKcBRivFMRMUlOpKQCGm0403FABSUtJQAUUUUAFLSUtAC0tIKWgYlAFLRTAkApcU4ClxQBHikxUmKNtAEWKTFSFaaRQAwikxmnkVNana8vvC6/mtJuwJFajFO70lADaKUijFABS0lJQA6lpKWgZZApQOKUCnYpgNC0hWpAKUigCArTCKnIphWkBDip7LcLjKpvOx/lxnd8p4xTCtOiJjkVwSCOhBwQaTdtwGXAXzm2RPEvZHBBH581FipGLOSzMWY9STkmmYqnuIbikIp1JSGNpKdSUgClFNpaALwp4FNFPAzVAFLinhaXbRYLEBFJipitMK0hkRFMYYZPdv6E1MRUL/wCthHq5/RWpS2EIRTCKkNNNADCKaaeRSUAR0hpxptACUtFFAGgvNSjio1p4NUih9LTAacDTAWmsKdmmk8UBYjaqsp/fwDvuf/0E1ZY1UlP+lW4/66H/AMdFZslkhphpSaaTTADTSaCaaTQAhppNKTTc0ALS03NGaANEGnA1GDS5qjQkBpwaoqcDTESbqKQdKQninYBrYqnJzfwj0jc/yFWGaqhOdSHtCf1YVEiWTMKjJqQmo2pDsNJppNBptArBSGiigLCUUUUCsX80oao6WmjQlHNOqNTUgaqAkB4pjtxQM4ppB5ouBExqqBm/kPpEo/WrJFVk5vLg+ioKlkslNNNONG3NOxREaTFS7aNtKwiHFGKlKU0rSCxHijFPxQBzQFi2y803FTEcVGRVBcaDipFqMip4F3GmBIiEinMmOcVOFwBSkZHNIZnyIOoqnEP39yf9oD9K1JY8LkVnRD5p29ZP5Ck+gnuh4XmlPFKOKQ1QxuKXFOAoxSAbimlal2ikK0AQYoAwaew5ptSI/9k=\"></td>\n",
              "      <td>[]</td>\n",
              "    </tr>\n",
              "    <tr>\n",
              "      <th>8</th>\n",
              "      <td>train/images/im9.jpg</td>\n",
              "      <td><img src=\"data:image/jpeg;base64,/9j/4AAQSkZJRgABAQAAAQABAAD/2wBDAAgGBgcGBQgHBwcJCQgKDBQNDAsLDBkSEw8UHRofHh0aHBwgJC4nICIsIxwcKDcpLDAxNDQ0Hyc5PTgyPC4zNDL/2wBDAQkJCQwLDBgNDRgyIRwhMjIyMjIyMjIyMjIyMjIyMjIyMjIyMjIyMjIyMjIyMjIyMjIyMjIyMjIyMjIyMjIyMjL/wAARCACAAIADASIAAhEBAxEB/8QAHwAAAQUBAQEBAQEAAAAAAAAAAAECAwQFBgcICQoL/8QAtRAAAgEDAwIEAwUFBAQAAAF9AQIDAAQRBRIhMUEGE1FhByJxFDKBkaEII0KxwRVS0fAkM2JyggkKFhcYGRolJicoKSo0NTY3ODk6Q0RFRkdISUpTVFVWV1hZWmNkZWZnaGlqc3R1dnd4eXqDhIWGh4iJipKTlJWWl5iZmqKjpKWmp6ipqrKztLW2t7i5usLDxMXGx8jJytLT1NXW19jZ2uHi4+Tl5ufo6erx8vP09fb3+Pn6/8QAHwEAAwEBAQEBAQEBAQAAAAAAAAECAwQFBgcICQoL/8QAtREAAgECBAQDBAcFBAQAAQJ3AAECAxEEBSExBhJBUQdhcRMiMoEIFEKRobHBCSMzUvAVYnLRChYkNOEl8RcYGRomJygpKjU2Nzg5OkNERUZHSElKU1RVVldYWVpjZGVmZ2hpanN0dXZ3eHl6goOEhYaHiImKkpOUlZaXmJmaoqOkpaanqKmqsrO0tba3uLm6wsPExcbHyMnK0tPU1dbX2Nna4uPk5ebn6Onq8vP09fb3+Pn6/9oADAMBAAIRAxEAPwCx+zp/yANZ/wCvpf8A0EV7TXi37On/ACANZ/6+l/8AQRXtNMDC8QTPHNaqkskYdju8ttpOFOOazwzlc/a7v/v8at+JTiayJ/vN/wCgms2FlY7c1Em7jRYy23P2u7/7/mo90xfAu7v/AL/Gn+ThuDxTwnzcCpuxk0ULMBuu7v8A7/mpDb4/5erv/v8AtUSy7TirSkOuapMTGrahv+Xq7/8AAhqnGnqf+Xm8/wDAhqSMc1aQ8Yp3EVjpo7XN5/4ENTZdP2qMXN5n/r4atWPGOaZOVI6j2oAxJbcj7tzdj/tu1GhySNqt3E80kiRqNvmNuIyFJ5+tWJyDwBVbQhjWr8f7K/8AoK0LcDoq8Y/aK/5FzSP+vs/+gGvZ68Y/aK/5FzSP+vs/+gGqAb+zp/yANZ/6+l/9BFe014t+zp/yANZ/6+l/9BFe00Acv4ufYbI/9NCP/HWrHtnIYGtbxmMiy/66H/0FqxbbKpWctykbO/5AfWmrMVJDCqkd0D8tXAodQakBpZnPAq5blguDUceAAMVZUZ6U0Jk8Z5qOC5c6tc2xK7Y4o3Azz827PH4UtxNHY2Ml1McRxLuY+1cFD4olTxNPf4fy3O024HJixgf8CGAcfh1NKU1Eajc9Fa4boKcg8wEmqsFwt1aQ3EZBSVA4I75FSIxAJqyRJEG7Haquj4/t2/x02r/6CtSsWPB6VFo3/Idv/wDdX/0Faa3A6CvGP2iv+Rc0j/r7P/oBr2evGP2iv+Rc0j/r7P8A6AaoBv7On/IA1n/r6X/0EV7TXi37On/IA1n/AK+l/wDQRXtNAHK+MjtFkf8Apof/AEFq5n7Q+3APFdL40GUs/wDrof8A0Fq5ZUNZy3GizbSEtzW5ZyA/KetYdug3Dmte1ibzAVqRmoqD0qZFI7U6OPIDHpUxlhtoJJZnSONFLM7nAAHqaskwPFeqx2uiS26SAXM52Im3JwD8x/8Ar15e0M+9mVPljUMAP48nJxz+Nbu5db1We7uJWhgkO5icscN91eM7R+n41nTTxia4C7WzHg55K47n0HT8TXLVk2rm8Etj0PwtrMdxaLYXTYvITtHHEi5wCPpnkV0vkgDOK8tkjO2HULSTc4YM3OQp4w36j8K9M0++TUtOguo2yJUBJxjnvx9c1tTelmZzXVDmjXbVLSRjX9Q/3U/9BWtBxxyQKz9KIOv6hjptT/0Fa1RBvV4x+0V/yLmkf9fZ/wDQDXs9eMftE/8AIuaR/wBfZ/8AQDVAN/Z0/wCQBrP/AF9L/wCgivaa8W/Z0/5AGs/9fS/+givaaAOW8YkAWef+ejf+gtXKhwGrqPGn3LLH/PQ/+gtXmWua/FpuqxwvMFCQmTys4Lsc7R+mazluNGsmo3EmuT20O3yYFRef4nYFjk+wx+dLdaheKCxneIKNx+bZtHqfQV5bceIPs3imPUbe5kQzTr9pQH5HTIB4r0q4v7G4DWWolJI5G8tXkGSQe3PB7nHuetZzSdot2Z1YduN5qKklua/h/wAaSkhZLiPULQHDNG4d0+hHX6Gu5mmim0meeJlkha3dlYcgjaa+dNY8IX/h68GseGZWKD5jApzx3XH8Q9VPP1r0DwZ4nfVvD95aKrE3VtK0UW7aUmCncgPbOP8AOadpQ0eqFJRqpyirNbro13RgTa3JBYtaWsrgMo8znCkgdD6modFtZtQ854rto1iYj7oO8kcg+o68dqojTbme9Mcy7EB5CHg5GSB7V0uiGKzjaMska5AG5toPFck56aBGOpS0rVTFGyMWaFsh0BOV9ce38vyr1vw9diTw3YPu3fu9ufXBI/pXlOo6UXY3Fp8sxY5XoHx/I+/9K7bw1NJaaDHC4TcHcgp/EM8HHb6VpQndkVI6HVT3AI4GKq6C/mazft7KP/HVrNmvXPGKt+Fn36lfN9P/AEFK64u7MWjq68Y/aK/5FzSP+vs/+gGvZ68Y/aK/5FzSP+vs/wDoBqxDf2dP+QBrP/X0v/oIr2mvFv2dP+QBrP8A19L/AOgivaaAOS8bsFjsif8Anqf/AEFq8j8eadBdaJcXZgU3MIBWQcNtBGQfUYr1X4gsFtbEkkfvu3+41cDd7bm2kjkG6ORSjA9weDWctxo8OYlm5Neg6VcW+vaNHHeqZguIp0DYbI6MD2OACPcGuL1bTZdLv5LaTnacq395expdJ1SbSrwXMOGHR4yeHHof8e1RUhzLTdHRhqypSfNrF6P0On0vxpeeG9Tm0vVBJcWyOYxLIn7wJ0BI7jH4+5rvdP8Asd0RqejSxEs/mnZ3OME/lgY61zS3Oh+JrdPOtop5gPuynbIntwQT+BxWxaWr21sU02COLyIy0cY+Vc+/fk9+tR7ZP3ZROlYVwTqRmrW/pWJ7iaK3kTdgnn5RjOPX2FQaWDeXUjuwjUDAIUHqOnP+T9KabYvcrJc7V3nLKhyAQPXHr3p9ldwWc5MjiNTjHGSenYVyNJXUTC/c04JwshikxlX+9jkD39vetrSblRajkEKxAwc1jlEuI2YMDzlWX+lWNNt2RJkQ7jvycADHbt9Kqg1zhU+E3ri6V0wAM1o+DCTd32fX+iVhJZXMmMKfxrf8HwvBe3qP97g/+OpXfDc5WdfXjH7RX/IuaR/19n/0A17PXjH7RP8AyLmkf9fZ/wDQDWghv7On/IA1n/r6X/0EV7TXi37On/IA1n/r6X/0EV7TQBwvxKONPsiP+e//ALI1efGQmHHeu++KDFdNsSOv2j/2R68z8xu5qJbgVtT0u31aDyrhcFfuOPvL/wDW9q5Ww8MlvEiac0quOJCyjt1/pXZGQMPcVS8OjzPFep3B58mMqD9FA/xqWNE+k+DraORpbkR3K5yAAQRn1rqFWGxsJFiVIYo0J4HAqvYltgaMkEdalvLoyxNC6+WWGC6cEisXzLR6otWZiXWoqDut1ZvdxtA/r3qvpqPdXZHnyRgKOUwO44HpT5YIlusgllPPzHOBzTdPfZebVBJYDGR06Vz9NDbqa3ny2c7RlsgHB39D0OR6fyrd0LUY4p7oMj5ZQRuXgc9j361lbQ5bcmML909jxTookgkYrlWYD1xg/wD6qVN++hzXus6GXVmVsoe9bvg64a6vb2VjycD/AMdSuJVtw5Gfeuv8Cf669+v9Er0IbnKztq8Y/aK/5FzSP+vs/wDoBr2evGP2iv8AkXNI/wCvs/8AoBrQQ39nT/kAaz/19L/6CK9prxb9nT/kAaz/ANfS/wDoIr2mgDhPiYpbTrIL18//ANkavNTaswznr19q9R+ISB7SyUnA871/2WrzuWF4yduCv1qJbjKkdqvVj061meCiZU1O5I5mfj3yxNW9WuTZaLfTgkOkLbW9CRgfqa5LwXeS20xZpnEIOWG7jA9qkEeneesMeBGB7YqleXkSwM8jLGFIJYnA61KL2K4lQI3ylGbP0OKz9bm8uyVViWUM/wAyg7TgDPWolsyluY9zqMHnZR2k57cDv1J/wqlHcLczbZZUgQj5RuIBxzgnPJwfpVeR83D7YyCSTlm3Ee1S2UYmudsn91jn0wrdPyFY2SRpe7Oot7wQA/ZilzbElMhufpu71aF/AzFdzJIygBGU8kH16Vm2URSFVikZRvbgqCDyeop8txcRDKQLufahZXwACRzg96x0UrmnQ04brqWJXEhjOfWu88AnMl77MR+iV5U92d14N6yv5gkVU7EEZr0/4cFT9uZX3hpCcn3WM4/Ou6nK7OeSsd9XjH7RX/IuaR/19n/0A17PXjH7RX/IuaR/19n/ANANbEDf2dP+QBrP/X0v/oIr2mvFv2dP+QBrP/X0v/oIr2mgDi/iEFNpZbunnf8AsrV53IY953eYR2wcV6D8R/8AjxsjzgT84H+y1efgpjByfwrOW4zl/Gd1FDoMlusvz3DKArcZAbJ/lWV4QtC6T8RyKIyWAbPGRTfHKXN3qEUcFvPIka4ysbEfoKd4cW8tIpUFrMC6Y+aIjpz3rNtum2UrKR1MjJbLcKpEbjGF3Z/Ad6q/bXmyzAjAO0E/XrVNLS4VNojKARlgSrMc89ffimSQzxFCrSglDkCPvnj+Gsndqxp1uU5Zt1y2DySTgU+wPl3SGUFU2nO5Tz8rDpj1qF47ve+FlAyeFjf+gos0mjuwTbXBH/XJl9fanyuwr6nTac4Zf3SjAf5toPGf8mrTyYgKgcjPGfbj+VYtpJOts4a2kTLg/dY5+X6Va864eDG+RSDz8jZ6+49KwlBmiki7dRwyzPbvlRKNxJOOct0IPoa9C+FwUWlyEOV3ErznjaleaIZAquVkaQrnzdpyeFPXHqCK9L+FybLW7UK4AkcfNnnG0Vth01IzqNNHoleMftFf8i5pH/X2f/QDXs9eMftFf8i5pH/X2f8A0A12mJ//2Q==\"></td>\n",
              "      <td>[]</td>\n",
              "    </tr>\n",
              "    <tr>\n",
              "      <th>9</th>\n",
              "      <td>train/images/im10.jpg</td>\n",
              "      <td><img src=\"data:image/jpeg;base64,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\"></td>\n",
              "      <td>[]</td>\n",
              "    </tr>\n",
              "    <tr>\n",
              "      <th>10</th>\n",
              "      <td>train/images/im11.jpg</td>\n",
              "      <td><img src=\"data:image/jpeg;base64,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\"></td>\n",
              "      <td>[male, people]</td>\n",
              "    </tr>\n",
              "    <tr>\n",
              "      <th>11</th>\n",
              "      <td>train/images/im12.jpg</td>\n",
              "      <td><img src=\"data:image/jpeg;base64,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\"></td>\n",
              "      <td>[portrait, female, people]</td>\n",
              "    </tr>\n",
              "    <tr>\n",
              "      <th>12</th>\n",
              "      <td>train/images/im13.jpg</td>\n",
              "      <td><img src=\"data:image/jpeg;base64,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\"></td>\n",
              "      <td>[male]</td>\n",
              "    </tr>\n",
              "    <tr>\n",
              "      <th>13</th>\n",
              "      <td>train/images/im14.jpg</td>\n",
              "      <td><img src=\"data:image/jpeg;base64,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\"></td>\n",
              "      <td>[]</td>\n",
              "    </tr>\n",
              "    <tr>\n",
              "      <th>14</th>\n",
              "      <td>train/images/im15.jpg</td>\n",
              "      <td><img src=\"data:image/jpeg;base64,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\"></td>\n",
              "      <td>[clouds, tree]</td>\n",
              "    </tr>\n",
              "    <tr>\n",
              "      <th>15</th>\n",
              "      <td>train/images/im16.jpg</td>\n",
              "      <td><img src=\"data:image/jpeg;base64,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\"></td>\n",
              "      <td>[night, people]</td>\n",
              "    </tr>\n",
              "    <tr>\n",
              "      <th>16</th>\n",
              "      <td>train/images/im17.jpg</td>\n",
              "      <td><img src=\"data:image/jpeg;base64,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\"></td>\n",
              "      <td>[]</td>\n",
              "    </tr>\n",
              "    <tr>\n",
              "      <th>17</th>\n",
              "      <td>train/images/im18.jpg</td>\n",
              "      <td><img src=\"data:image/jpeg;base64,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\"></td>\n",
              "      <td>[]</td>\n",
              "    </tr>\n",
              "    <tr>\n",
              "      <th>18</th>\n",
              "      <td>train/images/im19.jpg</td>\n",
              "      <td><img src=\"data:image/jpeg;base64,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\"></td>\n",
              "      <td>[]</td>\n",
              "    </tr>\n",
              "    <tr>\n",
              "      <th>19</th>\n",
              "      <td>train/images/im20.jpg</td>\n",
              "      <td><img src=\"data:image/jpeg;base64,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\"></td>\n",
              "      <td>[]</td>\n",
              "    </tr>\n",
              "  </tbody>\n",
              "</table>"
            ],
            "text/plain": [
              "<IPython.core.display.HTML object>"
            ]
          },
          "metadata": {
            "tags": []
          },
          "execution_count": 21
        }
      ]
    },
    {
      "metadata": {
        "id": "_EV7fjPXKl72",
        "colab_type": "code",
        "colab": {
          "base_uri": "https://localhost:8080/",
          "height": 35
        },
        "outputId": "b39b3900-08d7-49bd-e869-6dacfa81b97a"
      },
      "cell_type": "code",
      "source": [
        "mask = df['classes'].astype(str) == '[]' \n",
        "missing_values = sum(mask)\n",
        "print(\"missing values:\", missing_values)"
      ],
      "execution_count": 22,
      "outputs": [
        {
          "output_type": "stream",
          "text": [
            "missing values: 9824\n"
          ],
          "name": "stdout"
        }
      ]
    },
    {
      "metadata": {
        "id": "G6OIjbMiMDAu",
        "colab_type": "code",
        "colab": {
          "base_uri": "https://localhost:8080/",
          "height": 35
        },
        "outputId": "f3904ccf-65a0-41aa-d170-5c32fac101d6"
      },
      "cell_type": "code",
      "source": [
        "# percentage of images without class\n",
        "print((missing_values/20000)*100)"
      ],
      "execution_count": 23,
      "outputs": [
        {
          "output_type": "stream",
          "text": [
            "49.120000000000005\n"
          ],
          "name": "stdout"
        }
      ]
    },
    {
      "metadata": {
        "id": "o3ySHAQZFvtS",
        "colab_type": "code",
        "colab": {
          "base_uri": "https://localhost:8080/",
          "height": 395
        },
        "outputId": "d7b3c969-a7cd-4ba4-f275-9563e1f7ed7a"
      },
      "cell_type": "code",
      "source": [
        "# delete all the values without target\n",
        "df = df[~mask]\n",
        "df.head()"
      ],
      "execution_count": 24,
      "outputs": [
        {
          "output_type": "execute_result",
          "data": {
            "text/html": [
              "<div>\n",
              "<style scoped>\n",
              "    .dataframe tbody tr th:only-of-type {\n",
              "        vertical-align: middle;\n",
              "    }\n",
              "\n",
              "    .dataframe tbody tr th {\n",
              "        vertical-align: top;\n",
              "    }\n",
              "\n",
              "    .dataframe thead th {\n",
              "        text-align: right;\n",
              "    }\n",
              "</style>\n",
              "<table border=\"1\" class=\"dataframe\">\n",
              "  <thead>\n",
              "    <tr style=\"text-align: right;\">\n",
              "      <th></th>\n",
              "      <th>fileName</th>\n",
              "      <th>portrait</th>\n",
              "      <th>car</th>\n",
              "      <th>clouds</th>\n",
              "      <th>night</th>\n",
              "      <th>baby</th>\n",
              "      <th>river</th>\n",
              "      <th>female</th>\n",
              "      <th>tree</th>\n",
              "      <th>male</th>\n",
              "      <th>dog</th>\n",
              "      <th>flower</th>\n",
              "      <th>bird</th>\n",
              "      <th>people</th>\n",
              "      <th>sea</th>\n",
              "      <th>image</th>\n",
              "      <th>classes</th>\n",
              "    </tr>\n",
              "  </thead>\n",
              "  <tbody>\n",
              "    <tr>\n",
              "      <th>0</th>\n",
              "      <td>train/images/im1.jpg</td>\n",
              "      <td>1</td>\n",
              "      <td>0</td>\n",
              "      <td>0</td>\n",
              "      <td>0</td>\n",
              "      <td>0</td>\n",
              "      <td>0</td>\n",
              "      <td>1</td>\n",
              "      <td>0</td>\n",
              "      <td>0</td>\n",
              "      <td>0</td>\n",
              "      <td>0</td>\n",
              "      <td>0</td>\n",
              "      <td>1</td>\n",
              "      <td>0</td>\n",
              "      <td>&lt;PIL.JpegImagePlugin.JpegImageFile image mode=RGB size=128x128 at 0x7F7755889CC0&gt;</td>\n",
              "      <td>[portrait, female, people]</td>\n",
              "    </tr>\n",
              "    <tr>\n",
              "      <th>3</th>\n",
              "      <td>train/images/im4.jpg</td>\n",
              "      <td>0</td>\n",
              "      <td>0</td>\n",
              "      <td>0</td>\n",
              "      <td>0</td>\n",
              "      <td>0</td>\n",
              "      <td>0</td>\n",
              "      <td>0</td>\n",
              "      <td>0</td>\n",
              "      <td>1</td>\n",
              "      <td>0</td>\n",
              "      <td>0</td>\n",
              "      <td>0</td>\n",
              "      <td>1</td>\n",
              "      <td>0</td>\n",
              "      <td>&lt;PIL.JpegImagePlugin.JpegImageFile image mode=RGB size=128x128 at 0x7F7753E97438&gt;</td>\n",
              "      <td>[male, people]</td>\n",
              "    </tr>\n",
              "    <tr>\n",
              "      <th>4</th>\n",
              "      <td>train/images/im5.jpg</td>\n",
              "      <td>0</td>\n",
              "      <td>0</td>\n",
              "      <td>0</td>\n",
              "      <td>0</td>\n",
              "      <td>0</td>\n",
              "      <td>0</td>\n",
              "      <td>0</td>\n",
              "      <td>0</td>\n",
              "      <td>1</td>\n",
              "      <td>0</td>\n",
              "      <td>0</td>\n",
              "      <td>0</td>\n",
              "      <td>1</td>\n",
              "      <td>0</td>\n",
              "      <td>&lt;PIL.JpegImagePlugin.JpegImageFile image mode=RGB size=128x128 at 0x7F7753E974E0&gt;</td>\n",
              "      <td>[male, people]</td>\n",
              "    </tr>\n",
              "    <tr>\n",
              "      <th>6</th>\n",
              "      <td>train/images/im7.jpg</td>\n",
              "      <td>0</td>\n",
              "      <td>0</td>\n",
              "      <td>0</td>\n",
              "      <td>0</td>\n",
              "      <td>0</td>\n",
              "      <td>0</td>\n",
              "      <td>1</td>\n",
              "      <td>0</td>\n",
              "      <td>0</td>\n",
              "      <td>0</td>\n",
              "      <td>0</td>\n",
              "      <td>0</td>\n",
              "      <td>1</td>\n",
              "      <td>0</td>\n",
              "      <td>&lt;PIL.JpegImagePlugin.JpegImageFile image mode=L size=128x128 at 0x7F7753E97630&gt;</td>\n",
              "      <td>[female, people]</td>\n",
              "    </tr>\n",
              "    <tr>\n",
              "      <th>10</th>\n",
              "      <td>train/images/im11.jpg</td>\n",
              "      <td>0</td>\n",
              "      <td>0</td>\n",
              "      <td>0</td>\n",
              "      <td>0</td>\n",
              "      <td>0</td>\n",
              "      <td>0</td>\n",
              "      <td>0</td>\n",
              "      <td>0</td>\n",
              "      <td>1</td>\n",
              "      <td>0</td>\n",
              "      <td>0</td>\n",
              "      <td>0</td>\n",
              "      <td>1</td>\n",
              "      <td>0</td>\n",
              "      <td>&lt;PIL.JpegImagePlugin.JpegImageFile image mode=L size=128x128 at 0x7F7753E978D0&gt;</td>\n",
              "      <td>[male, people]</td>\n",
              "    </tr>\n",
              "  </tbody>\n",
              "</table>\n",
              "</div>"
            ],
            "text/plain": [
              "                 fileName  portrait  car  clouds  night  baby  river  female  \\\n",
              "0   train/images/im1.jpg   1         0    0       0      0     0      1        \n",
              "3   train/images/im4.jpg   0         0    0       0      0     0      0        \n",
              "4   train/images/im5.jpg   0         0    0       0      0     0      0        \n",
              "6   train/images/im7.jpg   0         0    0       0      0     0      1        \n",
              "10  train/images/im11.jpg  0         0    0       0      0     0      0        \n",
              "\n",
              "    tree  male  dog  flower  bird  people  sea  \\\n",
              "0   0     0     0    0       0     1       0     \n",
              "3   0     1     0    0       0     1       0     \n",
              "4   0     1     0    0       0     1       0     \n",
              "6   0     0     0    0       0     1       0     \n",
              "10  0     1     0    0       0     1       0     \n",
              "\n",
              "                                                                                image  \\\n",
              "0   <PIL.JpegImagePlugin.JpegImageFile image mode=RGB size=128x128 at 0x7F7755889CC0>   \n",
              "3   <PIL.JpegImagePlugin.JpegImageFile image mode=RGB size=128x128 at 0x7F7753E97438>   \n",
              "4   <PIL.JpegImagePlugin.JpegImageFile image mode=RGB size=128x128 at 0x7F7753E974E0>   \n",
              "6   <PIL.JpegImagePlugin.JpegImageFile image mode=L size=128x128 at 0x7F7753E97630>     \n",
              "10  <PIL.JpegImagePlugin.JpegImageFile image mode=L size=128x128 at 0x7F7753E978D0>     \n",
              "\n",
              "                       classes  \n",
              "0   [portrait, female, people]  \n",
              "3   [male, people]              \n",
              "4   [male, people]              \n",
              "6   [female, people]            \n",
              "10  [male, people]              "
            ]
          },
          "metadata": {
            "tags": []
          },
          "execution_count": 24
        }
      ]
    },
    {
      "metadata": {
        "id": "0zJhBno5am0I",
        "colab_type": "code",
        "colab": {}
      },
      "cell_type": "code",
      "source": [
        "df.to_csv(\"data.csv\")"
      ],
      "execution_count": 0,
      "outputs": []
    },
    {
      "metadata": {
        "id": "ffguCmSwnkeR",
        "colab_type": "code",
        "outputId": "94f7d33d-9830-49fa-a42a-038f723ab1c6",
        "colab": {
          "base_uri": "https://localhost:8080/",
          "height": 395
        }
      },
      "cell_type": "code",
      "source": [
        "df.head()"
      ],
      "execution_count": 26,
      "outputs": [
        {
          "output_type": "execute_result",
          "data": {
            "text/html": [
              "<div>\n",
              "<style scoped>\n",
              "    .dataframe tbody tr th:only-of-type {\n",
              "        vertical-align: middle;\n",
              "    }\n",
              "\n",
              "    .dataframe tbody tr th {\n",
              "        vertical-align: top;\n",
              "    }\n",
              "\n",
              "    .dataframe thead th {\n",
              "        text-align: right;\n",
              "    }\n",
              "</style>\n",
              "<table border=\"1\" class=\"dataframe\">\n",
              "  <thead>\n",
              "    <tr style=\"text-align: right;\">\n",
              "      <th></th>\n",
              "      <th>fileName</th>\n",
              "      <th>portrait</th>\n",
              "      <th>car</th>\n",
              "      <th>clouds</th>\n",
              "      <th>night</th>\n",
              "      <th>baby</th>\n",
              "      <th>river</th>\n",
              "      <th>female</th>\n",
              "      <th>tree</th>\n",
              "      <th>male</th>\n",
              "      <th>dog</th>\n",
              "      <th>flower</th>\n",
              "      <th>bird</th>\n",
              "      <th>people</th>\n",
              "      <th>sea</th>\n",
              "      <th>image</th>\n",
              "      <th>classes</th>\n",
              "    </tr>\n",
              "  </thead>\n",
              "  <tbody>\n",
              "    <tr>\n",
              "      <th>0</th>\n",
              "      <td>train/images/im1.jpg</td>\n",
              "      <td>1</td>\n",
              "      <td>0</td>\n",
              "      <td>0</td>\n",
              "      <td>0</td>\n",
              "      <td>0</td>\n",
              "      <td>0</td>\n",
              "      <td>1</td>\n",
              "      <td>0</td>\n",
              "      <td>0</td>\n",
              "      <td>0</td>\n",
              "      <td>0</td>\n",
              "      <td>0</td>\n",
              "      <td>1</td>\n",
              "      <td>0</td>\n",
              "      <td>&lt;PIL.JpegImagePlugin.JpegImageFile image mode=RGB size=128x128 at 0x7F7755889CC0&gt;</td>\n",
              "      <td>[portrait, female, people]</td>\n",
              "    </tr>\n",
              "    <tr>\n",
              "      <th>3</th>\n",
              "      <td>train/images/im4.jpg</td>\n",
              "      <td>0</td>\n",
              "      <td>0</td>\n",
              "      <td>0</td>\n",
              "      <td>0</td>\n",
              "      <td>0</td>\n",
              "      <td>0</td>\n",
              "      <td>0</td>\n",
              "      <td>0</td>\n",
              "      <td>1</td>\n",
              "      <td>0</td>\n",
              "      <td>0</td>\n",
              "      <td>0</td>\n",
              "      <td>1</td>\n",
              "      <td>0</td>\n",
              "      <td>&lt;PIL.JpegImagePlugin.JpegImageFile image mode=RGB size=128x128 at 0x7F7753E97438&gt;</td>\n",
              "      <td>[male, people]</td>\n",
              "    </tr>\n",
              "    <tr>\n",
              "      <th>4</th>\n",
              "      <td>train/images/im5.jpg</td>\n",
              "      <td>0</td>\n",
              "      <td>0</td>\n",
              "      <td>0</td>\n",
              "      <td>0</td>\n",
              "      <td>0</td>\n",
              "      <td>0</td>\n",
              "      <td>0</td>\n",
              "      <td>0</td>\n",
              "      <td>1</td>\n",
              "      <td>0</td>\n",
              "      <td>0</td>\n",
              "      <td>0</td>\n",
              "      <td>1</td>\n",
              "      <td>0</td>\n",
              "      <td>&lt;PIL.JpegImagePlugin.JpegImageFile image mode=RGB size=128x128 at 0x7F7753E974E0&gt;</td>\n",
              "      <td>[male, people]</td>\n",
              "    </tr>\n",
              "    <tr>\n",
              "      <th>6</th>\n",
              "      <td>train/images/im7.jpg</td>\n",
              "      <td>0</td>\n",
              "      <td>0</td>\n",
              "      <td>0</td>\n",
              "      <td>0</td>\n",
              "      <td>0</td>\n",
              "      <td>0</td>\n",
              "      <td>1</td>\n",
              "      <td>0</td>\n",
              "      <td>0</td>\n",
              "      <td>0</td>\n",
              "      <td>0</td>\n",
              "      <td>0</td>\n",
              "      <td>1</td>\n",
              "      <td>0</td>\n",
              "      <td>&lt;PIL.JpegImagePlugin.JpegImageFile image mode=L size=128x128 at 0x7F7753E97630&gt;</td>\n",
              "      <td>[female, people]</td>\n",
              "    </tr>\n",
              "    <tr>\n",
              "      <th>10</th>\n",
              "      <td>train/images/im11.jpg</td>\n",
              "      <td>0</td>\n",
              "      <td>0</td>\n",
              "      <td>0</td>\n",
              "      <td>0</td>\n",
              "      <td>0</td>\n",
              "      <td>0</td>\n",
              "      <td>0</td>\n",
              "      <td>0</td>\n",
              "      <td>1</td>\n",
              "      <td>0</td>\n",
              "      <td>0</td>\n",
              "      <td>0</td>\n",
              "      <td>1</td>\n",
              "      <td>0</td>\n",
              "      <td>&lt;PIL.JpegImagePlugin.JpegImageFile image mode=L size=128x128 at 0x7F7753E978D0&gt;</td>\n",
              "      <td>[male, people]</td>\n",
              "    </tr>\n",
              "  </tbody>\n",
              "</table>\n",
              "</div>"
            ],
            "text/plain": [
              "                 fileName  portrait  car  clouds  night  baby  river  female  \\\n",
              "0   train/images/im1.jpg   1         0    0       0      0     0      1        \n",
              "3   train/images/im4.jpg   0         0    0       0      0     0      0        \n",
              "4   train/images/im5.jpg   0         0    0       0      0     0      0        \n",
              "6   train/images/im7.jpg   0         0    0       0      0     0      1        \n",
              "10  train/images/im11.jpg  0         0    0       0      0     0      0        \n",
              "\n",
              "    tree  male  dog  flower  bird  people  sea  \\\n",
              "0   0     0     0    0       0     1       0     \n",
              "3   0     1     0    0       0     1       0     \n",
              "4   0     1     0    0       0     1       0     \n",
              "6   0     0     0    0       0     1       0     \n",
              "10  0     1     0    0       0     1       0     \n",
              "\n",
              "                                                                                image  \\\n",
              "0   <PIL.JpegImagePlugin.JpegImageFile image mode=RGB size=128x128 at 0x7F7755889CC0>   \n",
              "3   <PIL.JpegImagePlugin.JpegImageFile image mode=RGB size=128x128 at 0x7F7753E97438>   \n",
              "4   <PIL.JpegImagePlugin.JpegImageFile image mode=RGB size=128x128 at 0x7F7753E974E0>   \n",
              "6   <PIL.JpegImagePlugin.JpegImageFile image mode=L size=128x128 at 0x7F7753E97630>     \n",
              "10  <PIL.JpegImagePlugin.JpegImageFile image mode=L size=128x128 at 0x7F7753E978D0>     \n",
              "\n",
              "                       classes  \n",
              "0   [portrait, female, people]  \n",
              "3   [male, people]              \n",
              "4   [male, people]              \n",
              "6   [female, people]            \n",
              "10  [male, people]              "
            ]
          },
          "metadata": {
            "tags": []
          },
          "execution_count": 26
        }
      ]
    },
    {
      "metadata": {
        "id": "cIVuByY0rUIc",
        "colab_type": "code",
        "outputId": "3bcf3e1c-f2ed-4972-c467-594c9abbb7ae",
        "colab": {
          "base_uri": "https://localhost:8080/",
          "height": 35
        }
      },
      "cell_type": "code",
      "source": [
        "print(df.iloc[0,0])"
      ],
      "execution_count": 27,
      "outputs": [
        {
          "output_type": "stream",
          "text": [
            "train/images/im1.jpg\n"
          ],
          "name": "stdout"
        }
      ]
    },
    {
      "metadata": {
        "id": "jMNDVpYQt1zV",
        "colab_type": "code",
        "colab": {}
      },
      "cell_type": "code",
      "source": [
        "# PREPARING THE DATALOADER\n",
        "from torch.utils.data import Dataset, DataLoader\n",
        "from torchvision import transforms, utils\n",
        "\n",
        "# Ignore warnings ?\n",
        "import warnings\n",
        "warnings.filterwarnings(\"ignore\")\n",
        "import operator\n",
        "\n",
        "class ImageDataset:\n",
        "  def __init__ (self, csv_file, transformations=None):\n",
        "    self.data_frame = pd.read_csv(csv_file)\n",
        "    self.data_frame=self.data_frame.drop(['Unnamed: 0'], axis=1)\n",
        "    self.to_tensor = transforms.ToTensor()\n",
        "    # for data augmentation\n",
        "    self.transformations = transformations\n",
        "      \n",
        "  \n",
        "  def __len__(self):\n",
        "        return len(self.data_frame)\n",
        "   \n",
        "  def __getitem__(self, idx):\n",
        "    \n",
        "    # Get image name from the pandas df\n",
        "    single_image_name = self.data_frame.iloc[idx,0]\n",
        "    \n",
        "    # Open image\n",
        "    img_as_img = Image.open(single_image_name).convert(\"RGB\")\n",
        "    \n",
        "    if self.transformations:\n",
        "      img_as_img = self.transformations(img_as_img)\n",
        "\n",
        "    # Transform image to tensor\n",
        "    img_as_tensor = self.to_tensor(img_as_img)\n",
        "    \n",
        "    labels = np.asarray(self.data_frame.iloc[idx,1:-2], dtype=np.int16)\n",
        "    labels_classes = self.data_frame.iloc[idx,16]\n",
        "    sample = dict({'image': img_as_tensor, 'labels': labels, 'classes':labels_classes})\n",
        "    return (sample)\n",
        "  \n",
        "  \n",
        "        \n",
        "    \n"
      ],
      "execution_count": 0,
      "outputs": []
    },
    {
      "metadata": {
        "id": "QPOY7Vy25EDN",
        "colab_type": "code",
        "outputId": "494165bc-568d-47bf-d879-8c6da0e3010b",
        "colab": {
          "base_uri": "https://localhost:8080/",
          "height": 269
        }
      },
      "cell_type": "code",
      "source": [
        "tfs = transforms.Compose([\n",
        "    transforms.RandomHorizontalFlip(),\n",
        "    transforms.RandomRotation(20, resample=PIL.Image.BILINEAR),\n",
        "])\n",
        "\n",
        "image_dataset = ImageDataset(\"data.csv\", tfs)\n",
        "plot_image(image_dataset.__getitem__(0)['image'])\n"
      ],
      "execution_count": 17,
      "outputs": [
        {
          "output_type": "display_data",
          "data": {
            "image/png": "[encoded data removed]",
            "text/plain": [
              "<matplotlib.figure.Figure at 0x7faffa040048>"
            ]
          },
          "metadata": {
            "tags": []
          }
        }
      ]
    },
    {
      "metadata": {
        "id": "RqiwRyn2p527",
        "colab_type": "code",
        "outputId": "d0201323-2266-4572-eeba-7a25ac2a591b",
        "colab": {
          "base_uri": "https://localhost:8080/",
          "height": 194
        }
      },
      "cell_type": "code",
      "source": [
        "fig = plt.figure()\n",
        "\n",
        "for i in range(len(image_dataset)):\n",
        "    sample = image_dataset[i]\n",
        "    print(i, sample['image'].shape, sample['classes'])\n",
        "    \n",
        "    ax = plt.subplot(1, 5, i + 1)\n",
        "    plt.tight_layout()\n",
        "    ax.set_title('Sample #{}'.format(i))\n",
        "    ax.axis('off')\n",
        "    plot_image(sample['image'])\n",
        "   \n",
        "    if i == 4:\n",
        "        plt.show()\n",
        "        break"
      ],
      "execution_count": 18,
      "outputs": [
        {
          "output_type": "stream",
          "text": [
            "0 torch.Size([3, 128, 128]) ['portrait', 'female', 'people']\n",
            "1 torch.Size([3, 128, 128]) ['male', 'people']\n",
            "2 torch.Size([3, 128, 128]) ['male', 'people']\n",
            "3 torch.Size([3, 128, 128]) ['female', 'people']\n",
            "4 torch.Size([3, 128, 128]) ['male', 'people']\n"
          ],
          "name": "stdout"
        },
        {
          "output_type": "display_data",
          "data": {
            "image/png": "[encoded data removed]",
            "text/plain": [
              "<matplotlib.figure.Figure at 0x7faff9f65f28>"
            ]
          },
          "metadata": {
            "tags": []
          }
        }
      ]
    },
    {
      "metadata": {
        "id": "utyFqlVABxjK",
        "colab_type": "code",
        "colab": {
          "base_uri": "https://localhost:8080/",
          "height": 451
        },
        "outputId": "8e71da57-3f29-4e1a-a588-97beb7a3ebe7"
      },
      "cell_type": "code",
      "source": [
        "image_dataset.__getitem__(1)"
      ],
      "execution_count": 31,
      "outputs": [
        {
          "output_type": "execute_result",
          "data": {
            "text/plain": [
              "{'classes': \"['male', 'people']\",\n",
              " 'image': tensor([[[0.0000, 0.0000, 0.0000,  ..., 0.9882, 0.0000, 0.0000],\n",
              "          [0.0000, 0.0000, 0.0000,  ..., 0.9882, 0.0000, 0.0000],\n",
              "          [0.8745, 0.8784, 0.8784,  ..., 0.9922, 0.0000, 0.0000],\n",
              "          ...,\n",
              "          [0.0000, 0.0000, 0.2039,  ..., 0.8627, 0.8627, 0.8588],\n",
              "          [0.0000, 0.0000, 0.1490,  ..., 0.0000, 0.0000, 0.0000],\n",
              "          [0.0000, 0.0000, 0.3529,  ..., 0.0000, 0.0000, 0.0000]],\n",
              " \n",
              "         [[0.0000, 0.0000, 0.0000,  ..., 0.9922, 0.0000, 0.0000],\n",
              "          [0.0000, 0.0000, 0.0000,  ..., 0.9922, 0.0000, 0.0000],\n",
              "          [0.8627, 0.8667, 0.8667,  ..., 0.9961, 0.0000, 0.0000],\n",
              "          ...,\n",
              "          [0.0000, 0.0000, 0.2667,  ..., 0.8353, 0.8510, 0.8549],\n",
              "          [0.0000, 0.0000, 0.2235,  ..., 0.0000, 0.0000, 0.0000],\n",
              "          [0.0000, 0.0000, 0.4275,  ..., 0.0000, 0.0000, 0.0000]],\n",
              " \n",
              "         [[0.0000, 0.0000, 0.0000,  ..., 0.9961, 0.0000, 0.0000],\n",
              "          [0.0000, 0.0000, 0.0000,  ..., 0.9961, 0.0000, 0.0000],\n",
              "          [0.8588, 0.8588, 0.8588,  ..., 1.0000, 0.0000, 0.0000],\n",
              "          ...,\n",
              "          [0.0000, 0.0000, 0.3059,  ..., 0.8471, 0.8471, 0.8353],\n",
              "          [0.0000, 0.0000, 0.2706,  ..., 0.0000, 0.0000, 0.0000],\n",
              "          [0.0000, 0.0000, 0.4471,  ..., 0.0000, 0.0000, 0.0000]]]),\n",
              " 'labels': array([0, 0, 0, 0, 0, 0, 0, 0, 1, 0, 0, 0, 1, 0], dtype=int16)}"
            ]
          },
          "metadata": {
            "tags": []
          },
          "execution_count": 31
        }
      ]
    },
    {
      "metadata": {
        "id": "rJuVzAEmRfR-",
        "colab_type": "text"
      },
      "cell_type": "markdown",
      "source": [
        "split training and test set 90-10 split"
      ]
    },
    {
      "metadata": {
        "id": "4CbtGsXwRah5",
        "colab_type": "code",
        "colab": {
          "base_uri": "https://localhost:8080/",
          "height": 235
        },
        "outputId": "81dae677-2888-427a-dabf-94408b941434"
      },
      "cell_type": "code",
      "source": [
        "from sklearn.model_selection import train_test_split\n",
        "\n",
        "train_data, test_data = train_test_split(df, test_size=0.1)\n",
        "'''\n",
        "train_data.index = range(len(train_data.index))\n",
        "test_data.index = range(len(test_data.index))\n",
        "'''\n",
        "test_data.to_csv('./test.csv')\n",
        "train_data.to_csv('./train.csv')\n"
      ],
      "execution_count": 19,
      "outputs": [
        {
          "output_type": "error",
          "ename": "NameError",
          "evalue": "ignored",
          "traceback": [
            "\u001b[0;31m---------------------------------------------------------------------------\u001b[0m",
            "\u001b[0;31mNameError\u001b[0m                                 Traceback (most recent call last)",
            "\u001b[0;32m<ipython-input-19-e08689654bb3>\u001b[0m in \u001b[0;36m<module>\u001b[0;34m()\u001b[0m\n\u001b[1;32m      1\u001b[0m \u001b[0;32mfrom\u001b[0m \u001b[0msklearn\u001b[0m\u001b[0;34m.\u001b[0m\u001b[0mmodel_selection\u001b[0m \u001b[0;32mimport\u001b[0m \u001b[0mtrain_test_split\u001b[0m\u001b[0;34m\u001b[0m\u001b[0;34m\u001b[0m\u001b[0m\n\u001b[1;32m      2\u001b[0m \u001b[0;34m\u001b[0m\u001b[0m\n\u001b[0;32m----> 3\u001b[0;31m \u001b[0mtrain_data\u001b[0m\u001b[0;34m,\u001b[0m \u001b[0mtest_data\u001b[0m \u001b[0;34m=\u001b[0m \u001b[0mtrain_test_split\u001b[0m\u001b[0;34m(\u001b[0m\u001b[0mdf\u001b[0m\u001b[0;34m,\u001b[0m \u001b[0mtest_size\u001b[0m\u001b[0;34m=\u001b[0m\u001b[0;36m0.1\u001b[0m\u001b[0;34m)\u001b[0m\u001b[0;34m\u001b[0m\u001b[0;34m\u001b[0m\u001b[0m\n\u001b[0m\u001b[1;32m      4\u001b[0m '''\n\u001b[1;32m      5\u001b[0m \u001b[0mtrain_data\u001b[0m\u001b[0;34m.\u001b[0m\u001b[0mindex\u001b[0m \u001b[0;34m=\u001b[0m \u001b[0mrange\u001b[0m\u001b[0;34m(\u001b[0m\u001b[0mlen\u001b[0m\u001b[0;34m(\u001b[0m\u001b[0mtrain_data\u001b[0m\u001b[0;34m.\u001b[0m\u001b[0mindex\u001b[0m\u001b[0;34m)\u001b[0m\u001b[0;34m)\u001b[0m\u001b[0;34m\u001b[0m\u001b[0;34m\u001b[0m\u001b[0m\n",
            "\u001b[0;31mNameError\u001b[0m: name 'df' is not defined"
          ]
        }
      ]
    },
    {
      "metadata": {
        "id": "XaJFFWcKqqpP",
        "colab_type": "code",
        "outputId": "7e5d2e82-5e51-403e-d0ab-8d63a16650c2",
        "colab": {
          "base_uri": "https://localhost:8080/",
          "height": 107
        }
      },
      "cell_type": "code",
      "source": [
        "train_dataset = ImageDataset(\"train.csv\")\n",
        "test_dataset = ImageDataset(\"test.csv\")\n",
        "\n",
        "dataloader = DataLoader(image_dataset, batch_size=32, shuffle=True, num_workers=4)\n",
        "for i_batch, sample_batched in enumerate(dataloader):\n",
        "    print(i_batch, sample_batched['image'].size(),\n",
        "          sample_batched['classes'])\n",
        "\n",
        "    # observe 4th batch and stop.\n",
        "    if i_batch == 3:\n",
        "      break"
      ],
      "execution_count": 20,
      "outputs": [
        {
          "output_type": "stream",
          "text": [
            "0 torch.Size([32, 3, 128, 128]) [\"['portrait', 'female', 'people']\", \"['clouds']\", \"['portrait', 'female', 'people']\", \"['portrait', 'female', 'male', 'people']\", \"['clouds']\", \"['people']\", \"['clouds']\", \"['male']\", \"['people']\", \"['male', 'people']\", \"['portrait', 'female', 'people']\", \"['female', 'dog', 'people']\", \"['female', 'male', 'people']\", \"['portrait', 'male', 'people']\", \"['female', 'male', 'people']\", \"['male', 'people']\", \"['people']\", \"['portrait', 'male', 'people']\", \"['night']\", \"['people']\", \"['dog']\", \"['female', 'people']\", \"['tree', 'flower']\", \"['clouds']\", \"['male', 'people']\", \"['female', 'male', 'people']\", \"['male', 'people']\", \"['female', 'people']\", \"['portrait', 'female', 'people']\", \"['portrait', 'male', 'people']\", \"['night']\", \"['male', 'people']\"]\n",
            "1 torch.Size([32, 3, 128, 128]) [\"['female', 'male', 'people']\", \"['flower']\", \"['portrait', 'male', 'people']\", \"['night']\", \"['portrait', 'female', 'people']\", \"['people']\", \"['flower']\", \"['night']\", \"['portrait', 'female', 'people']\", \"['night']\", \"['female', 'people']\", \"['male', 'people']\", \"['male', 'people']\", \"['flower']\", \"['flower']\", \"['people']\", \"['portrait', 'female', 'people']\", \"['portrait', 'female', 'people']\", \"['portrait', 'female', 'people']\", \"['male', 'people']\", \"['male', 'people']\", \"['night', 'tree']\", \"['female', 'people']\", \"['clouds']\", \"['female', 'male', 'people']\", \"['clouds']\", \"['male', 'people']\", \"['female', 'male', 'people']\", \"['tree']\", \"['dog']\", \"['clouds']\", \"['female', 'male', 'people']\"]\n",
            "2 torch.Size([32, 3, 128, 128]) [\"['male', 'people']\", \"['female', 'people']\", \"['portrait', 'female', 'people']\", \"['portrait', 'female', 'people']\", \"['car']\", \"['flower']\", \"['tree']\", \"['portrait', 'female', 'people']\", \"['portrait', 'female', 'people']\", \"['portrait', 'female', 'people']\", \"['clouds']\", \"['male', 'people']\", \"['male', 'people']\", \"['female', 'male', 'people']\", \"['people']\", \"['night']\", \"['portrait', 'male', 'people']\", \"['portrait', 'female', 'people']\", \"['clouds']\", \"['bird']\", \"['clouds']\", \"['male', 'people']\", \"['clouds']\", \"['people']\", \"['portrait', 'male', 'people']\", \"['female', 'male', 'people']\", \"['flower']\", \"['portrait', 'female', 'people']\", \"['female', 'male', 'people']\", \"['flower']\", \"['portrait', 'male', 'people']\", \"['bird']\"]\n",
            "3 torch.Size([32, 3, 128, 128]) [\"['male', 'people']\", \"['clouds']\", \"['clouds']\", \"['male', 'people']\", \"['flower']\", \"['people']\", \"['bird']\", \"['night']\", \"['portrait', 'female', 'people']\", \"['portrait', 'female', 'people']\", \"['clouds']\", \"['night']\", \"['female', 'people']\", \"['bird']\", \"['tree']\", \"['flower']\", \"['portrait', 'male', 'people']\", \"['bird']\", \"['portrait', 'male', 'people']\", \"['night']\", \"['dog']\", \"['portrait', 'male', 'people']\", \"['portrait', 'female', 'people']\", \"['male', 'people']\", \"['portrait', 'female', 'people']\", \"['night']\", \"['tree']\", \"['female', 'people']\", \"['night']\", \"['clouds']\", \"['people']\", \"['night', 'people']\"]\n"
          ],
          "name": "stdout"
        }
      ]
    },
    {
      "metadata": {
        "id": "bpjziMbaYg39",
        "colab_type": "code",
        "outputId": "fd1938a3-ffcc-4e0b-e12d-cd1d99f2d849",
        "colab": {
          "base_uri": "https://localhost:8080/",
          "height": 107
        }
      },
      "cell_type": "code",
      "source": [
        "train_loader = DataLoader(dataset=train_dataset, batch_size=32, shuffle=True,num_workers=4)\n",
        "validation_loader = DataLoader(dataset=test_dataset, batch_size=32, shuffle=False,num_workers=4)\n",
        "\n",
        "for i_batch, sample_batched in enumerate(train_loader):\n",
        "    print(i_batch, sample_batched['image'].size(),\n",
        "          sample_batched['classes'])\n",
        "\n",
        "    # observe 4th batch and stop.\n",
        "    if i_batch == 3:\n",
        "      break"
      ],
      "execution_count": 21,
      "outputs": [
        {
          "output_type": "stream",
          "text": [
            "0 torch.Size([32, 3, 128, 128]) [\"['male', 'people']\", \"['female', 'male', 'people']\", \"['tree']\", \"['tree']\", \"['clouds']\", \"['portrait', 'female', 'people']\", \"['portrait', 'male', 'people']\", \"['portrait', 'female', 'people']\", \"['night', 'tree']\", \"['male', 'people']\", \"['bird']\", \"['portrait', 'female', 'people']\", \"['female', 'people']\", \"['clouds']\", \"['tree']\", \"['clouds']\", \"['flower']\", \"['portrait', 'female', 'people']\", \"['portrait', 'male', 'people']\", \"['night']\", \"['portrait', 'female', 'dog', 'people']\", \"['portrait', 'female', 'male', 'people']\", \"['male', 'people']\", \"['male', 'people']\", \"['portrait', 'female', 'male', 'people']\", \"['portrait', 'baby', 'male', 'people']\", \"['male', 'people']\", \"['portrait', 'female', 'male', 'people']\", \"['male', 'people']\", \"['clouds']\", \"['portrait', 'female', 'people']\", \"['portrait', 'female', 'people']\"]\n",
            "1 torch.Size([32, 3, 128, 128]) [\"['portrait', 'female', 'male', 'people']\", \"['male', 'people']\", \"['sea']\", \"['portrait', 'male', 'people']\", \"['night']\", \"['tree']\", \"['clouds']\", \"['car']\", \"['portrait', 'male', 'people']\", \"['portrait', 'male', 'people']\", \"['night']\", \"['female', 'male', 'people']\", \"['people']\", \"['portrait', 'male', 'people']\", \"['people']\", \"['male', 'people']\", \"['people']\", \"['female', 'people']\", \"['people']\", \"['female', 'people']\", \"['portrait', 'clouds', 'male', 'people']\", \"['clouds']\", \"['portrait', 'female', 'people']\", \"['portrait', 'female', 'people']\", \"['tree', 'male', 'people']\", \"['flower']\", \"['female', 'people']\", \"['female', 'people']\", \"['female', 'male', 'people']\", \"['car']\", \"['river']\", \"['male', 'people']\"]\n",
            "2 torch.Size([32, 3, 128, 128]) [\"['clouds', 'female', 'people']\", \"['dog']\", \"['night', 'tree', 'people']\", \"['clouds']\", \"['female', 'people']\", \"['dog']\", \"['portrait', 'baby', 'male', 'people']\", \"['male', 'people']\", \"['portrait', 'male', 'people']\", \"['clouds', 'night']\", \"['portrait', 'male', 'people']\", \"['bird']\", \"['bird']\", \"['portrait', 'female', 'people']\", \"['bird']\", \"['portrait', 'male', 'people']\", \"['portrait', 'female', 'male', 'people']\", \"['portrait', 'male', 'people']\", \"['dog']\", \"['night', 'people']\", \"['portrait', 'female', 'people']\", \"['clouds', 'people']\", \"['portrait', 'female', 'people']\", \"['portrait', 'female', 'people']\", \"['portrait', 'female', 'people']\", \"['dog']\", \"['portrait', 'female', 'people']\", \"['portrait', 'female', 'people']\", \"['clouds']\", \"['clouds', 'male', 'people']\", \"['female', 'male', 'people']\", \"['clouds']\"]\n",
            "3 torch.Size([32, 3, 128, 128]) [\"['flower']\", \"['flower']\", \"['female', 'male', 'people']\", \"['portrait', 'female', 'male', 'people']\", \"['male', 'people']\", \"['portrait', 'male', 'people']\", \"['tree']\", \"['portrait', 'female', 'people']\", \"['flower']\", \"['portrait', 'female', 'people']\", \"['portrait', 'male', 'people']\", \"['female', 'male', 'people']\", \"['bird']\", \"['dog']\", \"['night', 'people']\", \"['portrait', 'female', 'people']\", \"['male', 'people']\", \"['night']\", \"['portrait', 'female', 'people']\", \"['bird']\", \"['male', 'people']\", \"['car', 'night']\", \"['dog']\", \"['clouds']\", \"['night']\", \"['clouds']\", \"['portrait', 'male', 'people']\", \"['portrait', 'female', 'people']\", \"['tree']\", \"['female', 'people']\", \"['car']\", \"['portrait', 'male', 'people']\"]\n"
          ],
          "name": "stdout"
        }
      ]
    },
    {
      "metadata": {
        "id": "WB9bkt8O4ReJ",
        "colab_type": "code",
        "outputId": "126f0434-403e-4252-d28a-6cf5f1ef3bdb",
        "colab": {
          "base_uri": "https://localhost:8080/",
          "height": 52
        }
      },
      "cell_type": "code",
      "source": [
        "!mkdir train, test"
      ],
      "execution_count": 35,
      "outputs": [
        {
          "output_type": "stream",
          "text": [
            "mkdir: cannot create directory ‘train,’: File exists\n",
            "mkdir: cannot create directory ‘test’: File exists\n"
          ],
          "name": "stdout"
        }
      ]
    },
    {
      "metadata": {
        "id": "Zz0DRf4XXwlW",
        "colab_type": "code",
        "colab": {}
      },
      "cell_type": "code",
      "source": [
        "%matplotlib inline\n",
        "import torch\n",
        "import torch.nn as nn\n",
        "import torch.nn.functional as F\n",
        "\n",
        "class Net(nn.Module):\n",
        "    def __init__(self):\n",
        "        super(Net,self).__init__()\n",
        "         # Convolution 1\n",
        "        self.cnn1 = nn.Conv2d(in_channels=3, out_channels=16, kernel_size=5, stride=1, padding=0)\n",
        "        # Max pool 1\n",
        "        self.maxpool1 = nn.MaxPool2d(kernel_size=2)\n",
        "        # Convolution 2\n",
        "        self.cnn2 = nn.Conv2d(in_channels=16, out_channels=32, kernel_size=3, stride=1, padding=0)\n",
        "        # Max pool 2\n",
        "        self.maxpool2 = nn.MaxPool2d(kernel_size=2)  \n",
        "        self.dropout = nn.Dropout(p=0.5)\n",
        "        # Fully connected 1 (readout)\n",
        "        self.fc1 = nn.Linear(32*30*30, 14)\n",
        "     \n",
        "    def forward(self, x):\n",
        "        # Convolution 1\n",
        "        out = F.relu(self.cnn1(x))\n",
        "        \n",
        "        # Max pool 1\n",
        "        out = self.maxpool1(out)\n",
        "        \n",
        "        # Convolution 2 \n",
        "        out = F.relu(self.cnn2(out))\n",
        "        \n",
        "        # Max pool 2 \n",
        "        out = self.maxpool2(out)\n",
        "        \n",
        "        out = out.view(out.size(0), -1)\n",
        "        out = self.dropout(out)\n",
        "        # Linear function (readout)\n",
        "        out = self.fc1(out)\n",
        "        \n",
        "        return out\n",
        "    \n"
      ],
      "execution_count": 0,
      "outputs": []
    },
    {
      "metadata": {
        "id": "5-Mi_0lnXvr3",
        "colab_type": "code",
        "colab": {}
      },
      "cell_type": "code",
      "source": [
        "def train(train_loss, epoch, log_interval=100):\n",
        "    model.train()\n",
        "    loss_temp=0\n",
        "    for batch_idx, databatch in enumerate(train_loader):\n",
        "        data = databatch['image'].cuda().float()\n",
        "        target = databatch['labels'].cuda().float()\n",
        "        optimizer.zero_grad() \n",
        "        output = model(data)\n",
        "        loss = criterion(output, target)\n",
        "        loss_temp+=loss\n",
        "        loss.backward()\n",
        "        optimizer.step()\n",
        "        if batch_idx % log_interval == 0:\n",
        "            print('Train Epoch: {} [{}/{} ({:.0f}%)]\\tLoss: {:.6f}'.format(\n",
        "                epoch, batch_idx * len(data), len(train_loader.dataset),\n",
        "                100. * batch_idx / len(train_loader), loss.data.item()))\n",
        "        \n",
        "    train_loss.append(loss_temp/len(train_loader))\n",
        "    \n",
        "    \n",
        "    \n",
        "\n",
        "\n",
        "def validate(loss_vector, accuracy_vector):\n",
        "    model.eval()\n",
        "    val_loss, correct = 0, 0\n",
        "    for databatch in (validation_loader):\n",
        "        data = databatch['image'].cuda().float()\n",
        "        target = databatch['labels'].cuda().float()\n",
        "        output = model(data)\n",
        "        # print (output,output.shape)\n",
        "        val_loss += criterion(output, target).data.item()\n",
        "        pred = torch.tensor((torch.exp(output) > 0.5),dtype=torch.float).cuda()\n",
        "        pred[pred==0]=-1\n",
        "        # print(pred, target.data)\n",
        "        \n",
        "        num_corr_lab = 0\n",
        "        for el in target.data:\n",
        "          num_corr_lab += el\n",
        "        \n",
        "        num_corr_lab = num_corr_lab.cpu()\n",
        "        num_corr_lab = num_corr_lab.long()\n",
        "        \n",
        "        correct += (pred.eq(target.data).cpu().sum())/num_corr_lab\n",
        "        # correct = int(correct) ? \n",
        "    val_loss /= len(validation_loader)\n",
        "    loss_vector.append(val_loss)\n",
        "    \n",
        "    accuracy = 100. * correct / len(validation_loader.dataset)\n",
        "    accuracy_vector.append(accuracy)\n",
        "    \n",
        "    print('\\nValidation set: Average loss: {:.4f}, Accuracy: {}/{} ({:.0f}%)\\n'.format(\n",
        "        val_loss, correct, len(validation_loader.dataset), accuracy))"
      ],
      "execution_count": 0,
      "outputs": []
    },
    {
      "metadata": {
        "id": "0hbC37ukWD6f",
        "colab_type": "code",
        "colab": {
          "base_uri": "https://localhost:8080/",
          "height": 156
        },
        "outputId": "9bec5b70-af2e-46fb-92a0-8f23f00cb7d1"
      },
      "cell_type": "code",
      "source": [
        "model = Net().cuda()\n",
        "optimizer = torch.optim.Adam(model.parameters(), lr=0.001)\n",
        "criterion = nn.BCEWithLogitsLoss()\n",
        "\n",
        "print(model)\n",
        "\n",
        "use_cuda = True\n",
        "if use_cuda and torch.cuda.is_available():\n",
        "    model.cuda()"
      ],
      "execution_count": 24,
      "outputs": [
        {
          "output_type": "stream",
          "text": [
            "Net(\n",
            "  (cnn1): Conv2d(3, 16, kernel_size=(5, 5), stride=(1, 1))\n",
            "  (maxpool1): MaxPool2d(kernel_size=2, stride=2, padding=0, dilation=1, ceil_mode=False)\n",
            "  (cnn2): Conv2d(16, 32, kernel_size=(3, 3), stride=(1, 1))\n",
            "  (maxpool2): MaxPool2d(kernel_size=2, stride=2, padding=0, dilation=1, ceil_mode=False)\n",
            "  (dropout): Dropout(p=0.5)\n",
            "  (fc1): Linear(in_features=28800, out_features=14, bias=True)\n",
            ")\n"
          ],
          "name": "stdout"
        }
      ]
    },
    {
      "metadata": {
        "id": "XYINGjuiYoyg",
        "colab_type": "code",
        "outputId": "23a9d6a2-7036-403a-c6ad-a304fe813e5e",
        "colab": {
          "base_uri": "https://localhost:8080/",
          "height": 69
        }
      },
      "cell_type": "code",
      "source": [
        "%%time\n",
        "epochs = 4\n",
        "\n",
        "train_loss,valid_loss, accv =[], [], []\n",
        "for epoch in range(1, epochs + 1):\n",
        "    train(train_loss,epoch)\n",
        "    validate(valid_loss, accv)"
      ],
      "execution_count": 0,
      "outputs": [
        {
          "output_type": "stream",
          "text": [
            "Train Epoch: 1 [0/9158 (0%)]\tLoss: 0.698634\n",
            "Train Epoch: 1 [3200/9158 (35%)]\tLoss: 0.276349\n",
            "Train Epoch: 1 [6400/9158 (70%)]\tLoss: 0.276500\n"
          ],
          "name": "stdout"
        }
      ]
    },
    {
      "metadata": {
        "id": "T5zCcJddYu-g",
        "colab_type": "code",
        "colab": {}
      },
      "cell_type": "code",
      "source": [
        ""
      ],
      "execution_count": 0,
      "outputs": []
    }
  ]
}